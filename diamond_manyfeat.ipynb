{
 "cells": [
  {
   "cell_type": "markdown",
   "metadata": {},
   "source": [
    "# <font color='navy'> PREDICTING DIAMOND PRICES </font>"
   ]
  },
  {
   "cell_type": "markdown",
   "metadata": {},
   "source": [
    "## Get data"
   ]
  },
  {
   "cell_type": "markdown",
   "metadata": {},
   "source": [
    "### 1. Importing all libraries"
   ]
  },
  {
   "cell_type": "code",
   "execution_count": 1256,
   "metadata": {},
   "outputs": [],
   "source": [
    "import pandas as pd\n",
    "import numpy as np\n",
    "import matplotlib.pyplot as plt\n",
    "import seaborn as sns\n",
    "%matplotlib inline\n",
    "\n",
    "from sklearn import preprocessing"
   ]
  },
  {
   "cell_type": "markdown",
   "metadata": {},
   "source": [
    "### 2. Getting the data\n",
    "* Data from pricescope\n"
   ]
  },
  {
   "cell_type": "code",
   "execution_count": 1257,
   "metadata": {},
   "outputs": [
    {
     "data": {
      "text/html": [
       "<div>\n",
       "<style scoped>\n",
       "    .dataframe tbody tr th:only-of-type {\n",
       "        vertical-align: middle;\n",
       "    }\n",
       "\n",
       "    .dataframe tbody tr th {\n",
       "        vertical-align: top;\n",
       "    }\n",
       "\n",
       "    .dataframe thead th {\n",
       "        text-align: right;\n",
       "    }\n",
       "</style>\n",
       "<table border=\"1\" class=\"dataframe\">\n",
       "  <thead>\n",
       "    <tr style=\"text-align: right;\">\n",
       "      <th></th>\n",
       "      <th>carat</th>\n",
       "      <th>cut</th>\n",
       "      <th>color</th>\n",
       "      <th>clarity</th>\n",
       "      <th>depth</th>\n",
       "      <th>table</th>\n",
       "      <th>lab</th>\n",
       "      <th>sym</th>\n",
       "      <th>pol</th>\n",
       "      <th>flr</th>\n",
       "      <th>hna</th>\n",
       "      <th>price</th>\n",
       "    </tr>\n",
       "  </thead>\n",
       "  <tbody>\n",
       "    <tr>\n",
       "      <td>0</td>\n",
       "      <td>1.04</td>\n",
       "      <td>Premium</td>\n",
       "      <td>F</td>\n",
       "      <td>VS1</td>\n",
       "      <td>61.9</td>\n",
       "      <td>56</td>\n",
       "      <td>GIA</td>\n",
       "      <td>X</td>\n",
       "      <td>X</td>\n",
       "      <td>NaN</td>\n",
       "      <td>N</td>\n",
       "      <td>$9,191</td>\n",
       "    </tr>\n",
       "    <tr>\n",
       "      <td>1</td>\n",
       "      <td>1.04</td>\n",
       "      <td>Premium</td>\n",
       "      <td>H</td>\n",
       "      <td>VS2</td>\n",
       "      <td>61.2</td>\n",
       "      <td>57</td>\n",
       "      <td>GIA</td>\n",
       "      <td>X</td>\n",
       "      <td>X</td>\n",
       "      <td>NaN</td>\n",
       "      <td>N</td>\n",
       "      <td>$6,786</td>\n",
       "    </tr>\n",
       "    <tr>\n",
       "      <td>2</td>\n",
       "      <td>1.01</td>\n",
       "      <td>Premium</td>\n",
       "      <td>G</td>\n",
       "      <td>VS2</td>\n",
       "      <td>61.7</td>\n",
       "      <td>56</td>\n",
       "      <td>GIA</td>\n",
       "      <td>X</td>\n",
       "      <td>X</td>\n",
       "      <td>NaN</td>\n",
       "      <td>N</td>\n",
       "      <td>$7,465</td>\n",
       "    </tr>\n",
       "  </tbody>\n",
       "</table>\n",
       "</div>"
      ],
      "text/plain": [
       "   carat      cut color clarity depth table  lab sym pol  flr hna    price\n",
       "0   1.04  Premium     F     VS1  61.9    56  GIA   X   X  NaN   N  $9,191 \n",
       "1   1.04  Premium     H     VS2  61.2    57  GIA   X   X  NaN   N  $6,786 \n",
       "2   1.01  Premium     G     VS2  61.7    56  GIA   X   X  NaN   N  $7,465 "
      ]
     },
     "metadata": {},
     "output_type": "display_data"
    }
   ],
   "source": [
    "df = pd.read_csv(\"pricescope1.csv\")\n",
    "df.drop('Unnamed: 0', axis=1, inplace=True)\n",
    "display(df.head(3))"
   ]
  },
  {
   "cell_type": "markdown",
   "metadata": {},
   "source": [
    "### Convert price in dollars to integer\n",
    "1. replace $ with '<blank>' using regex\n",
    "2. convert to int using astype()\n",
    "3. array / series to dataframe using pd.DataFrame"
   ]
  },
  {
   "cell_type": "code",
   "execution_count": 1258,
   "metadata": {
    "scrolled": true
   },
   "outputs": [
    {
     "data": {
      "text/html": [
       "<div>\n",
       "<style scoped>\n",
       "    .dataframe tbody tr th:only-of-type {\n",
       "        vertical-align: middle;\n",
       "    }\n",
       "\n",
       "    .dataframe tbody tr th {\n",
       "        vertical-align: top;\n",
       "    }\n",
       "\n",
       "    .dataframe thead th {\n",
       "        text-align: right;\n",
       "    }\n",
       "</style>\n",
       "<table border=\"1\" class=\"dataframe\">\n",
       "  <thead>\n",
       "    <tr style=\"text-align: right;\">\n",
       "      <th></th>\n",
       "      <th>carat</th>\n",
       "      <th>cut</th>\n",
       "      <th>color</th>\n",
       "      <th>clarity</th>\n",
       "      <th>depth</th>\n",
       "      <th>table</th>\n",
       "      <th>lab</th>\n",
       "      <th>sym</th>\n",
       "      <th>pol</th>\n",
       "      <th>flr</th>\n",
       "      <th>hna</th>\n",
       "      <th>price</th>\n",
       "    </tr>\n",
       "  </thead>\n",
       "  <tbody>\n",
       "    <tr>\n",
       "      <td>0</td>\n",
       "      <td>1.04</td>\n",
       "      <td>Premium</td>\n",
       "      <td>F</td>\n",
       "      <td>VS1</td>\n",
       "      <td>61.9</td>\n",
       "      <td>56</td>\n",
       "      <td>GIA</td>\n",
       "      <td>X</td>\n",
       "      <td>X</td>\n",
       "      <td>NaN</td>\n",
       "      <td>N</td>\n",
       "      <td>9191</td>\n",
       "    </tr>\n",
       "    <tr>\n",
       "      <td>1</td>\n",
       "      <td>1.04</td>\n",
       "      <td>Premium</td>\n",
       "      <td>H</td>\n",
       "      <td>VS2</td>\n",
       "      <td>61.2</td>\n",
       "      <td>57</td>\n",
       "      <td>GIA</td>\n",
       "      <td>X</td>\n",
       "      <td>X</td>\n",
       "      <td>NaN</td>\n",
       "      <td>N</td>\n",
       "      <td>6786</td>\n",
       "    </tr>\n",
       "    <tr>\n",
       "      <td>2</td>\n",
       "      <td>1.01</td>\n",
       "      <td>Premium</td>\n",
       "      <td>G</td>\n",
       "      <td>VS2</td>\n",
       "      <td>61.7</td>\n",
       "      <td>56</td>\n",
       "      <td>GIA</td>\n",
       "      <td>X</td>\n",
       "      <td>X</td>\n",
       "      <td>NaN</td>\n",
       "      <td>N</td>\n",
       "      <td>7465</td>\n",
       "    </tr>\n",
       "    <tr>\n",
       "      <td>3</td>\n",
       "      <td>0.64</td>\n",
       "      <td>Premium</td>\n",
       "      <td>F</td>\n",
       "      <td>VS2</td>\n",
       "      <td>60.4</td>\n",
       "      <td>58</td>\n",
       "      <td>GIA</td>\n",
       "      <td>X</td>\n",
       "      <td>X</td>\n",
       "      <td>NaN</td>\n",
       "      <td>N</td>\n",
       "      <td>1936</td>\n",
       "    </tr>\n",
       "    <tr>\n",
       "      <td>4</td>\n",
       "      <td>0.84</td>\n",
       "      <td>Premium</td>\n",
       "      <td>G</td>\n",
       "      <td>VS2</td>\n",
       "      <td>61.6</td>\n",
       "      <td>57</td>\n",
       "      <td>GIA</td>\n",
       "      <td>X</td>\n",
       "      <td>X</td>\n",
       "      <td>NaN</td>\n",
       "      <td>N</td>\n",
       "      <td>3973</td>\n",
       "    </tr>\n",
       "  </tbody>\n",
       "</table>\n",
       "</div>"
      ],
      "text/plain": [
       "   carat      cut color clarity depth table  lab sym pol  flr hna  price\n",
       "0   1.04  Premium     F     VS1  61.9    56  GIA   X   X  NaN   N   9191\n",
       "1   1.04  Premium     H     VS2  61.2    57  GIA   X   X  NaN   N   6786\n",
       "2   1.01  Premium     G     VS2  61.7    56  GIA   X   X  NaN   N   7465\n",
       "3   0.64  Premium     F     VS2  60.4    58  GIA   X   X  NaN   N   1936\n",
       "4   0.84  Premium     G     VS2  61.6    57  GIA   X   X  NaN   N   3973"
      ]
     },
     "execution_count": 1258,
     "metadata": {},
     "output_type": "execute_result"
    }
   ],
   "source": [
    "priceint=pd.DataFrame(df['price'].replace('[\\$,]', '', regex=True).astype(int))\n",
    "df.drop(['price'], axis=1, inplace=True)\n",
    "df['price'] = priceint['price'].values\n",
    "df.head()"
   ]
  },
  {
   "cell_type": "markdown",
   "metadata": {},
   "source": [
    "## <a id='data_proc'> Data pre-processing</a>"
   ]
  },
  {
   "cell_type": "markdown",
   "metadata": {},
   "source": [
    "### Check if any null values present"
   ]
  },
  {
   "cell_type": "code",
   "execution_count": 1259,
   "metadata": {},
   "outputs": [
    {
     "data": {
      "text/plain": [
       "carat      0\n",
       "cut        0\n",
       "color      0\n",
       "clarity    0\n",
       "depth      0\n",
       "table      0\n",
       "lab        0\n",
       "sym        0\n",
       "pol        0\n",
       "flr        6\n",
       "hna        0\n",
       "price      0\n",
       "dtype: int64"
      ]
     },
     "execution_count": 1259,
     "metadata": {},
     "output_type": "execute_result"
    }
   ],
   "source": [
    "df.isnull().sum()"
   ]
  },
  {
   "cell_type": "markdown",
   "metadata": {},
   "source": [
    "#### We see that Flouro has empty values. Lets see how many empty and get rid of that data if less than 0.5%"
   ]
  },
  {
   "cell_type": "code",
   "execution_count": 1260,
   "metadata": {},
   "outputs": [
    {
     "data": {
      "text/plain": [
       "0.4240282685512367"
      ]
     },
     "execution_count": 1260,
     "metadata": {},
     "output_type": "execute_result"
    }
   ],
   "source": [
    "df['flr'].isnull().sum() / len(df['flr']) *100"
   ]
  },
  {
   "cell_type": "markdown",
   "metadata": {},
   "source": [
    "#### Null values are less 0.5%. so delete those"
   ]
  },
  {
   "cell_type": "code",
   "execution_count": 1261,
   "metadata": {},
   "outputs": [
    {
     "data": {
      "text/plain": [
       "carat      0\n",
       "cut        0\n",
       "color      0\n",
       "clarity    0\n",
       "depth      0\n",
       "table      0\n",
       "lab        0\n",
       "sym        0\n",
       "pol        0\n",
       "flr        0\n",
       "hna        0\n",
       "price      0\n",
       "dtype: int64"
      ]
     },
     "execution_count": 1261,
     "metadata": {},
     "output_type": "execute_result"
    }
   ],
   "source": [
    "indexnames = df[df['flr'].isnull()].index\n",
    "indexnames\n",
    "df.drop(axis=0,index=indexnames,inplace=True)\n",
    "df.isnull().sum()"
   ]
  },
  {
   "cell_type": "code",
   "execution_count": null,
   "metadata": {},
   "outputs": [],
   "source": []
  },
  {
   "cell_type": "markdown",
   "metadata": {},
   "source": [
    "### Check if all expected datatypes in all columns"
   ]
  },
  {
   "cell_type": "code",
   "execution_count": 1262,
   "metadata": {},
   "outputs": [
    {
     "name": "stdout",
     "output_type": "stream",
     "text": [
      "<class 'pandas.core.frame.DataFrame'>\n",
      "Int64Index: 1409 entries, 6 to 1414\n",
      "Data columns (total 12 columns):\n",
      "carat      1409 non-null float64\n",
      "cut        1409 non-null object\n",
      "color      1409 non-null object\n",
      "clarity    1409 non-null object\n",
      "depth      1409 non-null object\n",
      "table      1409 non-null object\n",
      "lab        1409 non-null object\n",
      "sym        1409 non-null object\n",
      "pol        1409 non-null object\n",
      "flr        1409 non-null object\n",
      "hna        1409 non-null object\n",
      "price      1409 non-null int32\n",
      "dtypes: float64(1), int32(1), object(10)\n",
      "memory usage: 137.6+ KB\n"
     ]
    }
   ],
   "source": [
    "df.info()"
   ]
  },
  {
   "cell_type": "markdown",
   "metadata": {},
   "source": [
    "#### We can see depth, table are _object_ datatype. This means there are some string values present. Lets examine and convert to numeric\n"
   ]
  },
  {
   "cell_type": "code",
   "execution_count": 1263,
   "metadata": {},
   "outputs": [
    {
     "name": "stdout",
     "output_type": "stream",
     "text": [
      "Percent of non-numeric data in Table --> 5.25195173882186\n",
      "Percent of non-numeric data in Depth --> 92.902767920511\n"
     ]
    }
   ],
   "source": [
    "print('Percent of non-numeric data in Table -->', len([x for x in df['table'] if not x.isnumeric()]) / len(df['table'])*100)\n",
    "print('Percent of non-numeric data in Depth -->', len([x for x in df['depth'] if not x.isnumeric()]) / len(df['table'])*100)\n"
   ]
  },
  {
   "cell_type": "markdown",
   "metadata": {},
   "source": [
    "#### Now see if these are floats stored as string or some rubbish values."
   ]
  },
  {
   "cell_type": "code",
   "execution_count": 1264,
   "metadata": {},
   "outputs": [
    {
     "name": "stdout",
     "output_type": "stream",
     "text": [
      "all rubish values --> {'-'}\n",
      "Percent of identified rubbish data in Table --> 0.04426737494466578\n",
      "all rubish values --> {'-'}\n",
      "Percent of identified rubbish data in Depth --> 0.04426737494466578\n"
     ]
    }
   ],
   "source": [
    "def removenotnum(list1):\n",
    "    notnum = []\n",
    "    for x in list1:\n",
    "        try:\n",
    "            float(x)\n",
    "        except:\n",
    "            notnum.append(x)\n",
    "    return notnum\n",
    "\n",
    "notnumtable = removenotnum(df['table'])\n",
    "print('all rubish values -->', set(notnumtable))\n",
    "print('Percent of identified rubbish data in Table -->', len(notnumtable) / len(ps['table'])*100)\n",
    "\n",
    "notnumdepth = removenotnum(df['depth'])\n",
    "print('all rubish values -->', set(notnumtable))\n",
    "print('Percent of identified rubbish data in Depth -->', len(notnumdepth) / len(ps['depth'])*100)\n"
   ]
  },
  {
   "cell_type": "markdown",
   "metadata": {},
   "source": [
    "#### It seems only a single type of rubbish character is stored at 0.5% of data, we can remove those entire rows for now\n",
    "<font color = \"green\"> 1. Drop rows with rubbish values for Table and Depth </font"
   ]
  },
  {
   "cell_type": "code",
   "execution_count": 1265,
   "metadata": {},
   "outputs": [
    {
     "data": {
      "text/plain": [
       "carat      0\n",
       "cut        0\n",
       "color      0\n",
       "clarity    0\n",
       "depth      0\n",
       "table      0\n",
       "lab        0\n",
       "sym        0\n",
       "pol        0\n",
       "flr        0\n",
       "hna        0\n",
       "price      0\n",
       "dtype: int64"
      ]
     },
     "execution_count": 1265,
     "metadata": {},
     "output_type": "execute_result"
    }
   ],
   "source": [
    "indexnames = df[(df['table'] == '-') | (df['depth'] == '-')].index\n",
    "indexnames\n",
    "df.drop(axis=0,index=indexnames,inplace=True) \n",
    "df.isnull().sum()"
   ]
  },
  {
   "cell_type": "code",
   "execution_count": 1266,
   "metadata": {},
   "outputs": [
    {
     "data": {
      "text/plain": [
       "{False}"
      ]
     },
     "execution_count": 1266,
     "metadata": {},
     "output_type": "execute_result"
    }
   ],
   "source": [
    "# This SET statement shows whether any '-' still remaining or not\n",
    "set(df['depth']==\"-\")"
   ]
  },
  {
   "cell_type": "markdown",
   "metadata": {},
   "source": [
    "### List all categories of the categorical columns: cut, clarity, color, lab, sym, pol, flr, hna\n",
    "> Remember, making a SET out of a series in a way means finding unique values, since a SET can have only unique values "
   ]
  },
  {
   "cell_type": "code",
   "execution_count": 1267,
   "metadata": {
    "scrolled": true
   },
   "outputs": [
    {
     "name": "stdout",
     "output_type": "stream",
     "text": [
      "Cut:  {'Very Good', 'Ideal', 'Premium', 'Good', 'None'}\n",
      "Color:  {'F', 'H', 'G', 'I', 'D', 'E'}\n",
      "Clarity:  {'IF', 'VS1', 'VVS2', 'VVS1', 'SI1', 'VS2'}\n",
      "Lab:  {'AGS', 'GIA'}\n",
      "Symetry:  {'F', 'ID', 'VG', 'X', 'G'}\n",
      "Polish:  {'F', 'ID', 'VG', 'X', 'G'}\n",
      "Flouro:  {'S', 'F', 'N', 'M'}\n",
      "H&A:  {'Y', 'N'}\n"
     ]
    }
   ],
   "source": [
    "print(\"Cut: \",set(df[\"cut\"]))\n",
    "print(\"Color: \",set(df[\"color\"]))\n",
    "print(\"Clarity: \",set(df[\"clarity\"]))\n",
    "print(\"Lab: \",set(df[\"lab\"]))\n",
    "print(\"Symetry: \",set(df[\"sym\"]))\n",
    "print(\"Polish: \",set(df[\"pol\"]))\n",
    "print(\"Flouro: \",set(df[\"flr\"]))\n",
    "print(\"H&A: \",set(df[\"hna\"]))\n"
   ]
  },
  {
   "cell_type": "markdown",
   "metadata": {},
   "source": [
    "### Convert object datatyped table and depth to float"
   ]
  },
  {
   "cell_type": "code",
   "execution_count": 1268,
   "metadata": {},
   "outputs": [],
   "source": [
    "df['table'] = df['table'].astype(float)\n",
    "df['depth'] = df['depth'].astype(float)"
   ]
  },
  {
   "cell_type": "code",
   "execution_count": 1269,
   "metadata": {},
   "outputs": [
    {
     "name": "stdout",
     "output_type": "stream",
     "text": [
      "<class 'pandas.core.frame.DataFrame'>\n",
      "Int64Index: 1408 entries, 6 to 1414\n",
      "Data columns (total 12 columns):\n",
      "carat      1408 non-null float64\n",
      "cut        1408 non-null object\n",
      "color      1408 non-null object\n",
      "clarity    1408 non-null object\n",
      "depth      1408 non-null float64\n",
      "table      1408 non-null float64\n",
      "lab        1408 non-null object\n",
      "sym        1408 non-null object\n",
      "pol        1408 non-null object\n",
      "flr        1408 non-null object\n",
      "hna        1408 non-null object\n",
      "price      1408 non-null int32\n",
      "dtypes: float64(3), int32(1), object(8)\n",
      "memory usage: 137.5+ KB\n"
     ]
    }
   ],
   "source": [
    "df.info()"
   ]
  },
  {
   "cell_type": "code",
   "execution_count": null,
   "metadata": {},
   "outputs": [],
   "source": []
  },
  {
   "cell_type": "markdown",
   "metadata": {},
   "source": [
    "## <a id='data_viz'>Data visualisation</a>"
   ]
  },
  {
   "cell_type": "markdown",
   "metadata": {},
   "source": [
    "#### 1. Pair-Plot Price vs. 4 Cs.\n",
    "Read more about 4Cs at https://4cs.gia.edu/en-us/4cs-diamond-quality/ or video at https://www.diamonds.pro/education/4cs-diamonds/"
   ]
  },
  {
   "cell_type": "code",
   "execution_count": 1270,
   "metadata": {},
   "outputs": [
    {
     "data": {
      "image/png": "[encoded data removed]",
      "text/plain": [
       "<Figure size 720x180 with 4 Axes>"
      ]
     },
     "metadata": {
      "needs_background": "light"
     },
     "output_type": "display_data"
    }
   ],
   "source": [
    "#df['size']=df['l']*df['w']*df['d']\n",
    "sns.pairplot(df, x_vars=['carat', 'cut', 'clarity', 'color'], y_vars = ['price'])\n",
    "plt.show()\n",
    "#df.drop(['size'], axis=1, inplace=True)"
   ]
  },
  {
   "cell_type": "markdown",
   "metadata": {},
   "source": [
    "#### 2. Convert categorical column to numerical column using labelencoder"
   ]
  },
  {
   "cell_type": "code",
   "execution_count": 1271,
   "metadata": {},
   "outputs": [
    {
     "data": {
      "text/html": [
       "<div>\n",
       "<style scoped>\n",
       "    .dataframe tbody tr th:only-of-type {\n",
       "        vertical-align: middle;\n",
       "    }\n",
       "\n",
       "    .dataframe tbody tr th {\n",
       "        vertical-align: top;\n",
       "    }\n",
       "\n",
       "    .dataframe thead th {\n",
       "        text-align: right;\n",
       "    }\n",
       "</style>\n",
       "<table border=\"1\" class=\"dataframe\">\n",
       "  <thead>\n",
       "    <tr style=\"text-align: right;\">\n",
       "      <th></th>\n",
       "      <th>carat</th>\n",
       "      <th>cut</th>\n",
       "      <th>color</th>\n",
       "      <th>clarity</th>\n",
       "      <th>depth</th>\n",
       "      <th>table</th>\n",
       "      <th>lab</th>\n",
       "      <th>sym</th>\n",
       "      <th>pol</th>\n",
       "      <th>flr</th>\n",
       "      <th>hna</th>\n",
       "      <th>price</th>\n",
       "    </tr>\n",
       "  </thead>\n",
       "  <tbody>\n",
       "    <tr>\n",
       "      <td>6</td>\n",
       "      <td>0.40</td>\n",
       "      <td>3</td>\n",
       "      <td>3</td>\n",
       "      <td>2</td>\n",
       "      <td>61.6</td>\n",
       "      <td>56.0</td>\n",
       "      <td>1</td>\n",
       "      <td>4</td>\n",
       "      <td>4</td>\n",
       "      <td>2</td>\n",
       "      <td>0</td>\n",
       "      <td>1191</td>\n",
       "    </tr>\n",
       "    <tr>\n",
       "      <td>7</td>\n",
       "      <td>0.81</td>\n",
       "      <td>1</td>\n",
       "      <td>3</td>\n",
       "      <td>3</td>\n",
       "      <td>61.6</td>\n",
       "      <td>57.0</td>\n",
       "      <td>0</td>\n",
       "      <td>2</td>\n",
       "      <td>2</td>\n",
       "      <td>2</td>\n",
       "      <td>1</td>\n",
       "      <td>4391</td>\n",
       "    </tr>\n",
       "    <tr>\n",
       "      <td>8</td>\n",
       "      <td>0.81</td>\n",
       "      <td>1</td>\n",
       "      <td>3</td>\n",
       "      <td>3</td>\n",
       "      <td>61.0</td>\n",
       "      <td>57.0</td>\n",
       "      <td>0</td>\n",
       "      <td>2</td>\n",
       "      <td>2</td>\n",
       "      <td>2</td>\n",
       "      <td>1</td>\n",
       "      <td>4396</td>\n",
       "    </tr>\n",
       "  </tbody>\n",
       "</table>\n",
       "</div>"
      ],
      "text/plain": [
       "   carat  cut  color  clarity  depth  table  lab  sym  pol  flr  hna  price\n",
       "6   0.40    3      3        2   61.6   56.0    1    4    4    2    0   1191\n",
       "7   0.81    1      3        3   61.6   57.0    0    2    2    2    1   4391\n",
       "8   0.81    1      3        3   61.0   57.0    0    2    2    2    1   4396"
      ]
     },
     "execution_count": 1271,
     "metadata": {},
     "output_type": "execute_result"
    }
   ],
   "source": [
    "def convert_catg(df1):\n",
    "    from sklearn.preprocessing import LabelEncoder\n",
    "    le = LabelEncoder()\n",
    "    # Find the columns of object type along with their column index\n",
    "    object_cols = list(df1.select_dtypes(exclude=[np.number]).columns)\n",
    "    object_cols_ind = []\n",
    "    for col in object_cols:\n",
    "        object_cols_ind.append(df1.columns.get_loc(col))\n",
    "\n",
    "    # Encode the categorical columns with numbers    \n",
    "    for i in object_cols_ind:\n",
    "        df1.iloc[:,i] = le.fit_transform(df1.iloc[:,i])\n",
    "\n",
    "convert_catg(df)\n",
    "df.head(3)\n",
    "\n"
   ]
  },
  {
   "cell_type": "markdown",
   "metadata": {},
   "source": [
    "#### 3. Plot histogram for every feature including price"
   ]
  },
  {
   "cell_type": "markdown",
   "metadata": {},
   "source": [
    "* Define histplot function"
   ]
  },
  {
   "cell_type": "code",
   "execution_count": 1272,
   "metadata": {},
   "outputs": [],
   "source": [
    "def histplot(df, listvar, bins):\n",
    "    fig, axes = plt.subplots(nrows=1, ncols=len(listvar), figsize=(20, 3))\n",
    "    counter=0\n",
    "    for ax in axes:\n",
    "        df.hist(column=listvar[counter], bins=bins, ax=axes[counter])\n",
    "        plt.ylabel('Price')\n",
    "        plt.xlabel(listvar[counter])\n",
    "        counter = counter+1\n",
    "    plt.show()\n"
   ]
  },
  {
   "cell_type": "markdown",
   "metadata": {},
   "source": [
    "* plot histogram for every feature now"
   ]
  },
  {
   "cell_type": "code",
   "execution_count": 1273,
   "metadata": {},
   "outputs": [
    {
     "data": {
      "image/png": "[encoded data removed]",
      "text/plain": [
       "<Figure size 1440x216 with 4 Axes>"
      ]
     },
     "metadata": {
      "needs_background": "light"
     },
     "output_type": "display_data"
    },
    {
     "data": {
      "image/png": "[encoded data removed]",
      "text/plain": [
       "<Figure size 1440x216 with 4 Axes>"
      ]
     },
     "metadata": {
      "needs_background": "light"
     },
     "output_type": "display_data"
    },
    {
     "data": {
      "image/png": "[encoded data removed]",
      "text/plain": [
       "<Figure size 1440x216 with 4 Axes>"
      ]
     },
     "metadata": {
      "needs_background": "light"
     },
     "output_type": "display_data"
    }
   ],
   "source": [
    "linear_vars = df.select_dtypes(include=[np.number]).columns\n",
    "histplot(df,linear_vars[0:4], bins=10)\n",
    "histplot(df,linear_vars[4:8], bins=10)\n",
    "histplot(df,linear_vars[8:], bins=10)"
   ]
  },
  {
   "cell_type": "markdown",
   "metadata": {},
   "source": [
    "#### 4. View outliers"
   ]
  },
  {
   "cell_type": "code",
   "execution_count": 1274,
   "metadata": {},
   "outputs": [
    {
     "data": {
      "text/plain": [
       "'sorted by carat --> [1.05, 1.05, 1.05, 1.05, 1.05]'"
      ]
     },
     "metadata": {},
     "output_type": "display_data"
    },
    {
     "data": {
      "text/plain": [
       "'sorted by cut --> [4, 4, 4, 4, 3]'"
      ]
     },
     "metadata": {},
     "output_type": "display_data"
    },
    {
     "data": {
      "text/plain": [
       "'sorted by color --> [5, 5, 5, 5, 5]'"
      ]
     },
     "metadata": {},
     "output_type": "display_data"
    },
    {
     "data": {
      "text/plain": [
       "'sorted by clarity --> [5, 5, 5, 5, 5]'"
      ]
     },
     "metadata": {},
     "output_type": "display_data"
    },
    {
     "data": {
      "text/plain": [
       "'sorted by depth --> [64.3, 64.2, 63.4, 63.1, 62.9]'"
      ]
     },
     "metadata": {},
     "output_type": "display_data"
    },
    {
     "data": {
      "text/plain": [
       "'sorted by table --> [61.0, 60.0, 59.0, 59.0, 59.0]'"
      ]
     },
     "metadata": {},
     "output_type": "display_data"
    },
    {
     "data": {
      "text/plain": [
       "'sorted by lab --> [1, 1, 1, 1, 1]'"
      ]
     },
     "metadata": {},
     "output_type": "display_data"
    },
    {
     "data": {
      "text/plain": [
       "'sorted by sym --> [4, 4, 4, 4, 4]'"
      ]
     },
     "metadata": {},
     "output_type": "display_data"
    },
    {
     "data": {
      "text/plain": [
       "'sorted by pol --> [4, 4, 4, 4, 4]'"
      ]
     },
     "metadata": {},
     "output_type": "display_data"
    },
    {
     "data": {
      "text/plain": [
       "'sorted by flr --> [3, 3, 3, 3, 3]'"
      ]
     },
     "metadata": {},
     "output_type": "display_data"
    },
    {
     "data": {
      "text/plain": [
       "'sorted by hna --> [1, 1, 1, 1, 1]'"
      ]
     },
     "metadata": {},
     "output_type": "display_data"
    },
    {
     "data": {
      "text/plain": [
       "'sorted by price --> [16680, 15983, 13859, 12994, 12882]'"
      ]
     },
     "metadata": {},
     "output_type": "display_data"
    }
   ],
   "source": [
    "def sorteddf(df, listvar):\n",
    "    for var in listvar:\n",
    "        display('sorted by ' + var + ' --> ' + str(list(df[listvar].sort_values(by=var,ascending=False)[var].head())))\n",
    "\n",
    "sorteddf(df, linear_vars)      "
   ]
  },
  {
   "cell_type": "markdown",
   "metadata": {},
   "source": [
    "Lets visualise those using boxplots"
   ]
  },
  {
   "cell_type": "code",
   "execution_count": 1275,
   "metadata": {},
   "outputs": [
    {
     "data": {
      "image/png": "[encoded data removed]",
      "text/plain": [
       "<Figure size 1440x216 with 12 Axes>"
      ]
     },
     "metadata": {
      "needs_background": "light"
     },
     "output_type": "display_data"
    }
   ],
   "source": [
    "def dfboxplot(df, listvar):\n",
    "    fig, axes = plt.subplots(nrows=1, ncols=len(listvar), figsize=(20, 3))\n",
    "    counter=0\n",
    "    for ax in axes:\n",
    "        df.boxplot(column=listvar[counter], ax=axes[counter])\n",
    "        plt.ylabel('Price')\n",
    "        plt.xlabel(listvar[counter])\n",
    "        counter = counter+1\n",
    "    plt.show()\n",
    "\n",
    "dfboxplot(df, linear_vars)\n"
   ]
  },
  {
   "cell_type": "code",
   "execution_count": null,
   "metadata": {},
   "outputs": [],
   "source": []
  },
  {
   "cell_type": "markdown",
   "metadata": {},
   "source": [
    "<font color = 'navy'><i><b>4. Convert to log</b></i></font>"
   ]
  },
  {
   "cell_type": "code",
   "execution_count": 1276,
   "metadata": {},
   "outputs": [
    {
     "data": {
      "image/png": "[encoded data removed]",
      "text/plain": [
       "<Figure size 1440x216 with 4 Axes>"
      ]
     },
     "metadata": {
      "needs_background": "light"
     },
     "output_type": "display_data"
    },
    {
     "data": {
      "image/png": "[encoded data removed]",
      "text/plain": [
       "<Figure size 1440x216 with 4 Axes>"
      ]
     },
     "metadata": {
      "needs_background": "light"
     },
     "output_type": "display_data"
    },
    {
     "data": {
      "image/png": "[encoded data removed]",
      "text/plain": [
       "<Figure size 1440x216 with 4 Axes>"
      ]
     },
     "metadata": {
      "needs_background": "light"
     },
     "output_type": "display_data"
    }
   ],
   "source": [
    "# this log converts dataframe's features inplace\n",
    "def convertfeatures2log(df, listvars):\n",
    "    for var in listvars:\n",
    "        df[var] = np.log(df[var])\n",
    "\n",
    "convertfeatures2log(df, ['carat', 'depth', 'table', 'price'])\n",
    "histplot(df,linear_vars[0:4], bins=10)\n",
    "histplot(df,linear_vars[4:8], bins=10)\n",
    "histplot(df,linear_vars[8:], bins=10)\n"
   ]
  },
  {
   "cell_type": "code",
   "execution_count": null,
   "metadata": {},
   "outputs": [],
   "source": []
  },
  {
   "cell_type": "markdown",
   "metadata": {},
   "source": [
    "## Data Preprocessing"
   ]
  },
  {
   "cell_type": "markdown",
   "metadata": {},
   "source": [
    "### 1. Determine mean values of categories of all category columns like cut, clarity and color\n",
    "* Do a dataframe groupby to find mean. \n",
    "\n",
    "* Sort_values sorts result by resulting values, NOT but category label"
   ]
  },
  {
   "cell_type": "code",
   "execution_count": 1277,
   "metadata": {},
   "outputs": [
    {
     "name": "stdout",
     "output_type": "stream",
     "text": [
      "cut\n",
      "0    7.433709\n",
      "3    7.488936\n",
      "1    7.865529\n",
      "4    8.158049\n",
      "2    8.930626\n",
      "Name: price, dtype: float64\n",
      "color\n",
      "4    7.522740\n",
      "3    7.534801\n",
      "5    7.546941\n",
      "2    7.606852\n",
      "1    7.630757\n",
      "0    7.706644\n",
      "Name: price, dtype: float64\n",
      "clarity\n",
      "1    7.469443\n",
      "3    7.557181\n",
      "2    7.571638\n",
      "0    7.603729\n",
      "5    7.630636\n",
      "4    7.734033\n",
      "Name: price, dtype: float64\n"
     ]
    }
   ],
   "source": [
    "\n",
    "# Addind a new column in same DF \n",
    "# df['price/wt']=df['price']/df['carat']\n",
    "\n",
    "# IMP: groupby in pandas dataframe\n",
    "print(df.groupby('cut')['price'].mean().sort_values())\n",
    "print(df.groupby('color')['price'].mean().sort_values())\n",
    "print(df.groupby('clarity')['price'].mean().sort_values())\n",
    "\n",
    "# df = df.drop(['price/wt'], axis=1)\n"
   ]
  },
  {
   "cell_type": "markdown",
   "metadata": {},
   "source": [
    "### 4. Set X and y now \n",
    "* NOTE: two quare brackets [[... ]] are needed to create a datarame. \n",
    "* Single [] will create a series / array"
   ]
  },
  {
   "cell_type": "code",
   "execution_count": 1278,
   "metadata": {},
   "outputs": [
    {
     "data": {
      "text/html": [
       "<div>\n",
       "<style scoped>\n",
       "    .dataframe tbody tr th:only-of-type {\n",
       "        vertical-align: middle;\n",
       "    }\n",
       "\n",
       "    .dataframe tbody tr th {\n",
       "        vertical-align: top;\n",
       "    }\n",
       "\n",
       "    .dataframe thead th {\n",
       "        text-align: right;\n",
       "    }\n",
       "</style>\n",
       "<table border=\"1\" class=\"dataframe\">\n",
       "  <thead>\n",
       "    <tr style=\"text-align: right;\">\n",
       "      <th></th>\n",
       "      <th>carat</th>\n",
       "      <th>cut</th>\n",
       "      <th>color</th>\n",
       "      <th>clarity</th>\n",
       "      <th>depth</th>\n",
       "      <th>table</th>\n",
       "      <th>lab</th>\n",
       "      <th>sym</th>\n",
       "      <th>pol</th>\n",
       "      <th>flr</th>\n",
       "      <th>hna</th>\n",
       "    </tr>\n",
       "  </thead>\n",
       "  <tbody>\n",
       "    <tr>\n",
       "      <td>6</td>\n",
       "      <td>-0.916291</td>\n",
       "      <td>3</td>\n",
       "      <td>3</td>\n",
       "      <td>2</td>\n",
       "      <td>4.120662</td>\n",
       "      <td>4.025352</td>\n",
       "      <td>1</td>\n",
       "      <td>4</td>\n",
       "      <td>4</td>\n",
       "      <td>2</td>\n",
       "      <td>0</td>\n",
       "    </tr>\n",
       "    <tr>\n",
       "      <td>7</td>\n",
       "      <td>-0.210721</td>\n",
       "      <td>1</td>\n",
       "      <td>3</td>\n",
       "      <td>3</td>\n",
       "      <td>4.120662</td>\n",
       "      <td>4.043051</td>\n",
       "      <td>0</td>\n",
       "      <td>2</td>\n",
       "      <td>2</td>\n",
       "      <td>2</td>\n",
       "      <td>1</td>\n",
       "    </tr>\n",
       "    <tr>\n",
       "      <td>8</td>\n",
       "      <td>-0.210721</td>\n",
       "      <td>1</td>\n",
       "      <td>3</td>\n",
       "      <td>3</td>\n",
       "      <td>4.110874</td>\n",
       "      <td>4.043051</td>\n",
       "      <td>0</td>\n",
       "      <td>2</td>\n",
       "      <td>2</td>\n",
       "      <td>2</td>\n",
       "      <td>1</td>\n",
       "    </tr>\n",
       "  </tbody>\n",
       "</table>\n",
       "</div>"
      ],
      "text/plain": [
       "      carat  cut  color  clarity     depth     table  lab  sym  pol  flr  hna\n",
       "6 -0.916291    3      3        2  4.120662  4.025352    1    4    4    2    0\n",
       "7 -0.210721    1      3        3  4.120662  4.043051    0    2    2    2    1\n",
       "8 -0.210721    1      3        3  4.110874  4.043051    0    2    2    2    1"
      ]
     },
     "metadata": {},
     "output_type": "display_data"
    },
    {
     "data": {
      "text/html": [
       "<div>\n",
       "<style scoped>\n",
       "    .dataframe tbody tr th:only-of-type {\n",
       "        vertical-align: middle;\n",
       "    }\n",
       "\n",
       "    .dataframe tbody tr th {\n",
       "        vertical-align: top;\n",
       "    }\n",
       "\n",
       "    .dataframe thead th {\n",
       "        text-align: right;\n",
       "    }\n",
       "</style>\n",
       "<table border=\"1\" class=\"dataframe\">\n",
       "  <thead>\n",
       "    <tr style=\"text-align: right;\">\n",
       "      <th></th>\n",
       "      <th>price</th>\n",
       "    </tr>\n",
       "  </thead>\n",
       "  <tbody>\n",
       "    <tr>\n",
       "      <td>6</td>\n",
       "      <td>7.082549</td>\n",
       "    </tr>\n",
       "    <tr>\n",
       "      <td>7</td>\n",
       "      <td>8.387312</td>\n",
       "    </tr>\n",
       "    <tr>\n",
       "      <td>8</td>\n",
       "      <td>8.388450</td>\n",
       "    </tr>\n",
       "  </tbody>\n",
       "</table>\n",
       "</div>"
      ],
      "text/plain": [
       "      price\n",
       "6  7.082549\n",
       "7  8.387312\n",
       "8  8.388450"
      ]
     },
     "metadata": {},
     "output_type": "display_data"
    }
   ],
   "source": [
    "X_df = df.drop(['price'], axis=1)\n",
    "display(X_df.head(3))\n",
    "\n",
    "y_df = df[['price']] # two [[ to create a DF. Single [] will create a series / array\n",
    "display(y_df.head(3))"
   ]
  },
  {
   "cell_type": "markdown",
   "metadata": {},
   "source": [
    "### 5.  Determine correlation between price vs all other attributes.\n",
    "* seems price is highly corr with carat (and dimensions) and fairly with color and clarity, not much with cut\n",
    "* combining both X (already converted categorical to numerical) and y to form a new dataframe for correlation\n",
    "\n",
    "> * **df_le = X_df** --> df_le will be like a pointer to X_df. Any change made to df_le will actually be a change to X_df\n",
    "> * So, df_le = X_df.**copy()** is better"
   ]
  },
  {
   "cell_type": "code",
   "execution_count": 1279,
   "metadata": {},
   "outputs": [
    {
     "data": {
      "text/html": [
       "<div>\n",
       "<style scoped>\n",
       "    .dataframe tbody tr th:only-of-type {\n",
       "        vertical-align: middle;\n",
       "    }\n",
       "\n",
       "    .dataframe tbody tr th {\n",
       "        vertical-align: top;\n",
       "    }\n",
       "\n",
       "    .dataframe thead th {\n",
       "        text-align: right;\n",
       "    }\n",
       "</style>\n",
       "<table border=\"1\" class=\"dataframe\">\n",
       "  <thead>\n",
       "    <tr style=\"text-align: right;\">\n",
       "      <th></th>\n",
       "      <th>carat</th>\n",
       "      <th>cut</th>\n",
       "      <th>color</th>\n",
       "      <th>clarity</th>\n",
       "      <th>depth</th>\n",
       "      <th>table</th>\n",
       "      <th>lab</th>\n",
       "      <th>sym</th>\n",
       "      <th>pol</th>\n",
       "      <th>flr</th>\n",
       "      <th>hna</th>\n",
       "      <th>price</th>\n",
       "    </tr>\n",
       "  </thead>\n",
       "  <tbody>\n",
       "    <tr>\n",
       "      <td>carat</td>\n",
       "      <td>1.000000</td>\n",
       "      <td>-0.227000</td>\n",
       "      <td>0.102544</td>\n",
       "      <td>-0.023613</td>\n",
       "      <td>0.039393</td>\n",
       "      <td>0.204458</td>\n",
       "      <td>-0.227405</td>\n",
       "      <td>-0.237623</td>\n",
       "      <td>-0.231543</td>\n",
       "      <td>0.054660</td>\n",
       "      <td>0.229536</td>\n",
       "      <td>0.963835</td>\n",
       "    </tr>\n",
       "    <tr>\n",
       "      <td>cut</td>\n",
       "      <td>-0.227000</td>\n",
       "      <td>1.000000</td>\n",
       "      <td>-0.058305</td>\n",
       "      <td>0.201631</td>\n",
       "      <td>0.043172</td>\n",
       "      <td>-0.111751</td>\n",
       "      <td>0.989376</td>\n",
       "      <td>0.985790</td>\n",
       "      <td>0.975246</td>\n",
       "      <td>-0.208309</td>\n",
       "      <td>-0.974516</td>\n",
       "      <td>-0.196432</td>\n",
       "    </tr>\n",
       "    <tr>\n",
       "      <td>color</td>\n",
       "      <td>0.102544</td>\n",
       "      <td>-0.058305</td>\n",
       "      <td>1.000000</td>\n",
       "      <td>-0.079998</td>\n",
       "      <td>0.034412</td>\n",
       "      <td>0.011204</td>\n",
       "      <td>-0.052867</td>\n",
       "      <td>-0.060526</td>\n",
       "      <td>-0.067440</td>\n",
       "      <td>0.045568</td>\n",
       "      <td>0.064487</td>\n",
       "      <td>-0.067419</td>\n",
       "    </tr>\n",
       "    <tr>\n",
       "      <td>clarity</td>\n",
       "      <td>-0.023613</td>\n",
       "      <td>0.201631</td>\n",
       "      <td>-0.079998</td>\n",
       "      <td>1.000000</td>\n",
       "      <td>-0.045238</td>\n",
       "      <td>-0.010072</td>\n",
       "      <td>0.201366</td>\n",
       "      <td>0.206650</td>\n",
       "      <td>0.214137</td>\n",
       "      <td>-0.028839</td>\n",
       "      <td>-0.203227</td>\n",
       "      <td>0.064900</td>\n",
       "    </tr>\n",
       "    <tr>\n",
       "      <td>depth</td>\n",
       "      <td>0.039393</td>\n",
       "      <td>0.043172</td>\n",
       "      <td>0.034412</td>\n",
       "      <td>-0.045238</td>\n",
       "      <td>1.000000</td>\n",
       "      <td>-0.425406</td>\n",
       "      <td>0.053506</td>\n",
       "      <td>0.017152</td>\n",
       "      <td>0.025119</td>\n",
       "      <td>0.003308</td>\n",
       "      <td>-0.072570</td>\n",
       "      <td>0.018577</td>\n",
       "    </tr>\n",
       "    <tr>\n",
       "      <td>table</td>\n",
       "      <td>0.204458</td>\n",
       "      <td>-0.111751</td>\n",
       "      <td>0.011204</td>\n",
       "      <td>-0.010072</td>\n",
       "      <td>-0.425406</td>\n",
       "      <td>1.000000</td>\n",
       "      <td>-0.112664</td>\n",
       "      <td>-0.125245</td>\n",
       "      <td>-0.129512</td>\n",
       "      <td>-0.019839</td>\n",
       "      <td>0.133323</td>\n",
       "      <td>0.174333</td>\n",
       "    </tr>\n",
       "    <tr>\n",
       "      <td>lab</td>\n",
       "      <td>-0.227405</td>\n",
       "      <td>0.989376</td>\n",
       "      <td>-0.052867</td>\n",
       "      <td>0.201366</td>\n",
       "      <td>0.053506</td>\n",
       "      <td>-0.112664</td>\n",
       "      <td>1.000000</td>\n",
       "      <td>0.980630</td>\n",
       "      <td>0.972778</td>\n",
       "      <td>-0.211673</td>\n",
       "      <td>-0.984997</td>\n",
       "      <td>-0.200130</td>\n",
       "    </tr>\n",
       "    <tr>\n",
       "      <td>sym</td>\n",
       "      <td>-0.237623</td>\n",
       "      <td>0.985790</td>\n",
       "      <td>-0.060526</td>\n",
       "      <td>0.206650</td>\n",
       "      <td>0.017152</td>\n",
       "      <td>-0.125245</td>\n",
       "      <td>0.980630</td>\n",
       "      <td>1.000000</td>\n",
       "      <td>0.983955</td>\n",
       "      <td>-0.195843</td>\n",
       "      <td>-0.965791</td>\n",
       "      <td>-0.202796</td>\n",
       "    </tr>\n",
       "    <tr>\n",
       "      <td>pol</td>\n",
       "      <td>-0.231543</td>\n",
       "      <td>0.975246</td>\n",
       "      <td>-0.067440</td>\n",
       "      <td>0.214137</td>\n",
       "      <td>0.025119</td>\n",
       "      <td>-0.129512</td>\n",
       "      <td>0.972778</td>\n",
       "      <td>0.983955</td>\n",
       "      <td>1.000000</td>\n",
       "      <td>-0.193065</td>\n",
       "      <td>-0.965360</td>\n",
       "      <td>-0.193830</td>\n",
       "    </tr>\n",
       "    <tr>\n",
       "      <td>flr</td>\n",
       "      <td>0.054660</td>\n",
       "      <td>-0.208309</td>\n",
       "      <td>0.045568</td>\n",
       "      <td>-0.028839</td>\n",
       "      <td>0.003308</td>\n",
       "      <td>-0.019839</td>\n",
       "      <td>-0.211673</td>\n",
       "      <td>-0.195843</td>\n",
       "      <td>-0.193065</td>\n",
       "      <td>1.000000</td>\n",
       "      <td>0.201550</td>\n",
       "      <td>0.067750</td>\n",
       "    </tr>\n",
       "    <tr>\n",
       "      <td>hna</td>\n",
       "      <td>0.229536</td>\n",
       "      <td>-0.974516</td>\n",
       "      <td>0.064487</td>\n",
       "      <td>-0.203227</td>\n",
       "      <td>-0.072570</td>\n",
       "      <td>0.133323</td>\n",
       "      <td>-0.984997</td>\n",
       "      <td>-0.965791</td>\n",
       "      <td>-0.965360</td>\n",
       "      <td>0.201550</td>\n",
       "      <td>1.000000</td>\n",
       "      <td>0.199534</td>\n",
       "    </tr>\n",
       "    <tr>\n",
       "      <td>price</td>\n",
       "      <td>0.963835</td>\n",
       "      <td>-0.196432</td>\n",
       "      <td>-0.067419</td>\n",
       "      <td>0.064900</td>\n",
       "      <td>0.018577</td>\n",
       "      <td>0.174333</td>\n",
       "      <td>-0.200130</td>\n",
       "      <td>-0.202796</td>\n",
       "      <td>-0.193830</td>\n",
       "      <td>0.067750</td>\n",
       "      <td>0.199534</td>\n",
       "      <td>1.000000</td>\n",
       "    </tr>\n",
       "  </tbody>\n",
       "</table>\n",
       "</div>"
      ],
      "text/plain": [
       "            carat       cut     color   clarity     depth     table       lab  \\\n",
       "carat    1.000000 -0.227000  0.102544 -0.023613  0.039393  0.204458 -0.227405   \n",
       "cut     -0.227000  1.000000 -0.058305  0.201631  0.043172 -0.111751  0.989376   \n",
       "color    0.102544 -0.058305  1.000000 -0.079998  0.034412  0.011204 -0.052867   \n",
       "clarity -0.023613  0.201631 -0.079998  1.000000 -0.045238 -0.010072  0.201366   \n",
       "depth    0.039393  0.043172  0.034412 -0.045238  1.000000 -0.425406  0.053506   \n",
       "table    0.204458 -0.111751  0.011204 -0.010072 -0.425406  1.000000 -0.112664   \n",
       "lab     -0.227405  0.989376 -0.052867  0.201366  0.053506 -0.112664  1.000000   \n",
       "sym     -0.237623  0.985790 -0.060526  0.206650  0.017152 -0.125245  0.980630   \n",
       "pol     -0.231543  0.975246 -0.067440  0.214137  0.025119 -0.129512  0.972778   \n",
       "flr      0.054660 -0.208309  0.045568 -0.028839  0.003308 -0.019839 -0.211673   \n",
       "hna      0.229536 -0.974516  0.064487 -0.203227 -0.072570  0.133323 -0.984997   \n",
       "price    0.963835 -0.196432 -0.067419  0.064900  0.018577  0.174333 -0.200130   \n",
       "\n",
       "              sym       pol       flr       hna     price  \n",
       "carat   -0.237623 -0.231543  0.054660  0.229536  0.963835  \n",
       "cut      0.985790  0.975246 -0.208309 -0.974516 -0.196432  \n",
       "color   -0.060526 -0.067440  0.045568  0.064487 -0.067419  \n",
       "clarity  0.206650  0.214137 -0.028839 -0.203227  0.064900  \n",
       "depth    0.017152  0.025119  0.003308 -0.072570  0.018577  \n",
       "table   -0.125245 -0.129512 -0.019839  0.133323  0.174333  \n",
       "lab      0.980630  0.972778 -0.211673 -0.984997 -0.200130  \n",
       "sym      1.000000  0.983955 -0.195843 -0.965791 -0.202796  \n",
       "pol      0.983955  1.000000 -0.193065 -0.965360 -0.193830  \n",
       "flr     -0.195843 -0.193065  1.000000  0.201550  0.067750  \n",
       "hna     -0.965791 -0.965360  0.201550  1.000000  0.199534  \n",
       "price   -0.202796 -0.193830  0.067750  0.199534  1.000000  "
      ]
     },
     "execution_count": 1279,
     "metadata": {},
     "output_type": "execute_result"
    }
   ],
   "source": [
    "df_le = X_df.copy()\n",
    "\n",
    "# add a new column in dataframe - join 2 dataframe columns-wise\n",
    "df_le['price'] = y_df['price'].values\n",
    "df_le.corr()\n"
   ]
  },
  {
   "cell_type": "markdown",
   "metadata": {},
   "source": [
    "<img src=\"diam_attr.jpg\" alt=\"Diamond Attributes\" style=\"width: 400px;\"/>\n",
    "https://www.gia.edu/diamond-cut/diamond-cut-anatomy-round-brilliant\n",
    "\n",
    "* IDEAL cut has table and depth values along with crown, pavilion, culet etc in a emperically defined range"
   ]
  },
  {
   "cell_type": "markdown",
   "metadata": {},
   "source": [
    "#### Feature scaling - seems not needed here since we have log1p the price"
   ]
  },
  {
   "cell_type": "code",
   "execution_count": null,
   "metadata": {},
   "outputs": [],
   "source": [
    "'''from sklearn.preprocessing import StandardScaler\n",
    "sc_X = StandardScaler()\n",
    "\n",
    " \n",
    "# why fit_transform to X_train whereas transform to X_test?\n",
    "# Becasue StandardScaler has to be first fitted to X_train. Then StandardScaler will understand data type and wd need only transform\n",
    "      \n",
    "X_df = sc_X.fit_transform(X_df)\n",
    "X_df[0:3]\n",
    "\n",
    "'''"
   ]
  },
  {
   "cell_type": "markdown",
   "metadata": {},
   "source": [
    "# Run ML Model\n",
    "\n",
    "\n",
    "#### train test split"
   ]
  },
  {
   "cell_type": "code",
   "execution_count": 1280,
   "metadata": {},
   "outputs": [
    {
     "data": {
      "text/html": [
       "<div>\n",
       "<style scoped>\n",
       "    .dataframe tbody tr th:only-of-type {\n",
       "        vertical-align: middle;\n",
       "    }\n",
       "\n",
       "    .dataframe tbody tr th {\n",
       "        vertical-align: top;\n",
       "    }\n",
       "\n",
       "    .dataframe thead th {\n",
       "        text-align: right;\n",
       "    }\n",
       "</style>\n",
       "<table border=\"1\" class=\"dataframe\">\n",
       "  <thead>\n",
       "    <tr style=\"text-align: right;\">\n",
       "      <th></th>\n",
       "      <th>carat</th>\n",
       "      <th>cut</th>\n",
       "      <th>color</th>\n",
       "      <th>clarity</th>\n",
       "      <th>depth</th>\n",
       "      <th>table</th>\n",
       "      <th>lab</th>\n",
       "      <th>sym</th>\n",
       "      <th>pol</th>\n",
       "      <th>flr</th>\n",
       "      <th>hna</th>\n",
       "    </tr>\n",
       "  </thead>\n",
       "  <tbody>\n",
       "    <tr>\n",
       "      <td>1176</td>\n",
       "      <td>-0.634878</td>\n",
       "      <td>3</td>\n",
       "      <td>3</td>\n",
       "      <td>4</td>\n",
       "      <td>4.122284</td>\n",
       "      <td>4.025352</td>\n",
       "      <td>1</td>\n",
       "      <td>4</td>\n",
       "      <td>4</td>\n",
       "      <td>0</td>\n",
       "      <td>0</td>\n",
       "    </tr>\n",
       "    <tr>\n",
       "      <td>300</td>\n",
       "      <td>-0.356675</td>\n",
       "      <td>3</td>\n",
       "      <td>3</td>\n",
       "      <td>2</td>\n",
       "      <td>4.131961</td>\n",
       "      <td>4.025352</td>\n",
       "      <td>1</td>\n",
       "      <td>4</td>\n",
       "      <td>4</td>\n",
       "      <td>2</td>\n",
       "      <td>0</td>\n",
       "    </tr>\n",
       "    <tr>\n",
       "      <td>1158</td>\n",
       "      <td>-0.891598</td>\n",
       "      <td>3</td>\n",
       "      <td>3</td>\n",
       "      <td>2</td>\n",
       "      <td>4.117410</td>\n",
       "      <td>4.025352</td>\n",
       "      <td>1</td>\n",
       "      <td>4</td>\n",
       "      <td>4</td>\n",
       "      <td>0</td>\n",
       "      <td>0</td>\n",
       "    </tr>\n",
       "    <tr>\n",
       "      <td>899</td>\n",
       "      <td>-0.510826</td>\n",
       "      <td>1</td>\n",
       "      <td>1</td>\n",
       "      <td>3</td>\n",
       "      <td>4.110874</td>\n",
       "      <td>4.039536</td>\n",
       "      <td>0</td>\n",
       "      <td>2</td>\n",
       "      <td>2</td>\n",
       "      <td>2</td>\n",
       "      <td>1</td>\n",
       "    </tr>\n",
       "    <tr>\n",
       "      <td>780</td>\n",
       "      <td>-0.186330</td>\n",
       "      <td>3</td>\n",
       "      <td>3</td>\n",
       "      <td>4</td>\n",
       "      <td>4.125520</td>\n",
       "      <td>4.043051</td>\n",
       "      <td>1</td>\n",
       "      <td>4</td>\n",
       "      <td>4</td>\n",
       "      <td>2</td>\n",
       "      <td>0</td>\n",
       "    </tr>\n",
       "  </tbody>\n",
       "</table>\n",
       "</div>"
      ],
      "text/plain": [
       "         carat  cut  color  clarity     depth     table  lab  sym  pol  flr  \\\n",
       "1176 -0.634878    3      3        4  4.122284  4.025352    1    4    4    0   \n",
       "300  -0.356675    3      3        2  4.131961  4.025352    1    4    4    2   \n",
       "1158 -0.891598    3      3        2  4.117410  4.025352    1    4    4    0   \n",
       "899  -0.510826    1      1        3  4.110874  4.039536    0    2    2    2   \n",
       "780  -0.186330    3      3        4  4.125520  4.043051    1    4    4    2   \n",
       "\n",
       "      hna  \n",
       "1176    0  \n",
       "300     0  \n",
       "1158    0  \n",
       "899     1  \n",
       "780     0  "
      ]
     },
     "execution_count": 1280,
     "metadata": {},
     "output_type": "execute_result"
    }
   ],
   "source": [
    "from sklearn.model_selection import train_test_split\n",
    "X_train, X_test, y_train, y_test = train_test_split(X_df, y_df, test_size=0.3, random_state=42)\n",
    "\n",
    "X_train.head()"
   ]
  },
  {
   "cell_type": "code",
   "execution_count": 1281,
   "metadata": {},
   "outputs": [],
   "source": [
    "# y_test['price'].rename_axis('ID').values"
   ]
  },
  {
   "cell_type": "markdown",
   "metadata": {},
   "source": [
    "### Linear ML model"
   ]
  },
  {
   "cell_type": "code",
   "execution_count": 1284,
   "metadata": {},
   "outputs": [],
   "source": [
    "from sklearn.linear_model import LinearRegression\n",
    "\n",
    "reg_all = LinearRegression()\n",
    "reg_all.fit(X_train,y_train)\n",
    "\n",
    "y_pred=reg_all.predict(X_test)\n"
   ]
  },
  {
   "cell_type": "code",
   "execution_count": 1285,
   "metadata": {},
   "outputs": [
    {
     "data": {
      "text/plain": [
       "<matplotlib.collections.PathCollection at 0x18dc6d46a20>"
      ]
     },
     "execution_count": 1285,
     "metadata": {},
     "output_type": "execute_result"
    },
    {
     "data": {
      "image/png": "[encoded data removed]",
      "text/plain": [
       "<Figure size 432x288 with 1 Axes>"
      ]
     },
     "metadata": {
      "needs_background": "light"
     },
     "output_type": "display_data"
    }
   ],
   "source": [
    "import  matplotlib.pyplot as plt\n",
    "plt.scatter(y_test,y_pred)"
   ]
  },
  {
   "cell_type": "code",
   "execution_count": 1286,
   "metadata": {},
   "outputs": [
    {
     "data": {
      "image/png": "[encoded data removed]",
      "text/plain": [
       "<Figure size 432x288 with 1 Axes>"
      ]
     },
     "metadata": {
      "needs_background": "light"
     },
     "output_type": "display_data"
    }
   ],
   "source": [
    "import seaborn as sns\n",
    "sns.distplot((y_test-y_pred),bins=50);"
   ]
  },
  {
   "cell_type": "markdown",
   "metadata": {},
   "source": [
    "### Regression Evaluation Metrics\n",
    "\n",
    "\n",
    "Here are three common evaluation metrics for regression problems:\n",
    "\n",
    "**Mean Absolute Error** (MAE) is the mean of the absolute value of the errors:\n",
    "\n",
    "$$\\frac 1n\\sum_{i=1}^n|y_i-\\hat{y}_i|$$\n",
    "\n",
    "**Mean Squared Error** (MSE) is the mean of the squared errors:\n",
    "\n",
    "$$\\frac 1n\\sum_{i=1}^n(y_i-\\hat{y}_i)^2$$\n",
    "\n",
    "**Root Mean Squared Error** (RMSE) is the square root of the mean of the squared errors:\n",
    "\n",
    "$$\\sqrt{\\frac 1n\\sum_{i=1}^n(y_i-\\hat{y}_i)^2}$$\n",
    "\n",
    "Comparing these metrics:\n",
    "\n",
    "- **MAE** is the easiest to understand, because it's the average error.\n",
    "- **MSE** is more popular than MAE, because MSE \"punishes\" larger errors, which tends to be useful in the real world.\n",
    "- **RMSE** is even more popular than MSE, because RMSE is interpretable in the \"y\" units.\n",
    "\n",
    "All of these are **loss functions**, because we want to minimize them."
   ]
  },
  {
   "cell_type": "code",
   "execution_count": 1287,
   "metadata": {},
   "outputs": [
    {
     "name": "stdout",
     "output_type": "stream",
     "text": [
      "MAE: 0.11652136924155168\n",
      "MSE: 0.02292105733384392\n",
      "RMSE: 0.15139701890672722\n"
     ]
    }
   ],
   "source": [
    "from sklearn import metrics\n",
    "\n",
    "# The following are \n",
    "\n",
    "print('MAE:', metrics.mean_absolute_error(y_test, y_pred))\n",
    "print('MSE:', metrics.mean_squared_error(y_test, y_pred))\n",
    "print('RMSE:', np.sqrt(metrics.mean_squared_error(y_test, y_pred)))"
   ]
  },
  {
   "cell_type": "markdown",
   "metadata": {},
   "source": [
    "### KNN"
   ]
  },
  {
   "cell_type": "code",
   "execution_count": 1288,
   "metadata": {},
   "outputs": [
    {
     "data": {
      "text/html": [
       "<div>\n",
       "<style scoped>\n",
       "    .dataframe tbody tr th:only-of-type {\n",
       "        vertical-align: middle;\n",
       "    }\n",
       "\n",
       "    .dataframe tbody tr th {\n",
       "        vertical-align: top;\n",
       "    }\n",
       "\n",
       "    .dataframe thead th {\n",
       "        text-align: right;\n",
       "    }\n",
       "</style>\n",
       "<table border=\"1\" class=\"dataframe\">\n",
       "  <thead>\n",
       "    <tr style=\"text-align: right;\">\n",
       "      <th></th>\n",
       "      <th>carat</th>\n",
       "      <th>cut</th>\n",
       "      <th>color</th>\n",
       "      <th>clarity</th>\n",
       "      <th>depth</th>\n",
       "      <th>table</th>\n",
       "      <th>lab</th>\n",
       "      <th>sym</th>\n",
       "      <th>pol</th>\n",
       "      <th>flr</th>\n",
       "      <th>hna</th>\n",
       "    </tr>\n",
       "  </thead>\n",
       "  <tbody>\n",
       "    <tr>\n",
       "      <td>359</td>\n",
       "      <td>-0.494296</td>\n",
       "      <td>3</td>\n",
       "      <td>3</td>\n",
       "      <td>2</td>\n",
       "      <td>4.115780</td>\n",
       "      <td>4.025352</td>\n",
       "      <td>1</td>\n",
       "      <td>4</td>\n",
       "      <td>4</td>\n",
       "      <td>2</td>\n",
       "      <td>0</td>\n",
       "    </tr>\n",
       "    <tr>\n",
       "      <td>870</td>\n",
       "      <td>-0.616186</td>\n",
       "      <td>3</td>\n",
       "      <td>4</td>\n",
       "      <td>3</td>\n",
       "      <td>4.102643</td>\n",
       "      <td>4.025352</td>\n",
       "      <td>1</td>\n",
       "      <td>4</td>\n",
       "      <td>4</td>\n",
       "      <td>2</td>\n",
       "      <td>0</td>\n",
       "    </tr>\n",
       "    <tr>\n",
       "      <td>1168</td>\n",
       "      <td>-0.673345</td>\n",
       "      <td>3</td>\n",
       "      <td>0</td>\n",
       "      <td>5</td>\n",
       "      <td>4.123903</td>\n",
       "      <td>4.025352</td>\n",
       "      <td>1</td>\n",
       "      <td>4</td>\n",
       "      <td>4</td>\n",
       "      <td>0</td>\n",
       "      <td>0</td>\n",
       "    </tr>\n",
       "    <tr>\n",
       "      <td>198</td>\n",
       "      <td>0.019803</td>\n",
       "      <td>3</td>\n",
       "      <td>5</td>\n",
       "      <td>2</td>\n",
       "      <td>4.112512</td>\n",
       "      <td>4.025352</td>\n",
       "      <td>1</td>\n",
       "      <td>4</td>\n",
       "      <td>4</td>\n",
       "      <td>2</td>\n",
       "      <td>0</td>\n",
       "    </tr>\n",
       "    <tr>\n",
       "      <td>788</td>\n",
       "      <td>-0.616186</td>\n",
       "      <td>3</td>\n",
       "      <td>2</td>\n",
       "      <td>5</td>\n",
       "      <td>4.128746</td>\n",
       "      <td>4.025352</td>\n",
       "      <td>1</td>\n",
       "      <td>4</td>\n",
       "      <td>4</td>\n",
       "      <td>2</td>\n",
       "      <td>0</td>\n",
       "    </tr>\n",
       "  </tbody>\n",
       "</table>\n",
       "</div>"
      ],
      "text/plain": [
       "         carat  cut  color  clarity     depth     table  lab  sym  pol  flr  \\\n",
       "359  -0.494296    3      3        2  4.115780  4.025352    1    4    4    2   \n",
       "870  -0.616186    3      4        3  4.102643  4.025352    1    4    4    2   \n",
       "1168 -0.673345    3      0        5  4.123903  4.025352    1    4    4    0   \n",
       "198   0.019803    3      5        2  4.112512  4.025352    1    4    4    2   \n",
       "788  -0.616186    3      2        5  4.128746  4.025352    1    4    4    2   \n",
       "\n",
       "      hna  \n",
       "359     0  \n",
       "870     0  \n",
       "1168    0  \n",
       "198     0  \n",
       "788     0  "
      ]
     },
     "execution_count": 1288,
     "metadata": {},
     "output_type": "execute_result"
    }
   ],
   "source": [
    "X_test.head()"
   ]
  },
  {
   "cell_type": "code",
   "execution_count": 1289,
   "metadata": {},
   "outputs": [
    {
     "data": {
      "text/plain": [
       "array([[8.01505327],\n",
       "       [7.61778791],\n",
       "       [7.84032566]])"
      ]
     },
     "execution_count": 1289,
     "metadata": {},
     "output_type": "execute_result"
    }
   ],
   "source": [
    "from sklearn.neighbors import KNeighborsRegressor\n",
    "\n",
    "reg_all = KNeighborsRegressor(n_neighbors = 8, metric = 'minkowski', p = 2)\n",
    "reg_all.fit(X_train,y_train)\n",
    "y_pred=reg_all.predict(X_test)\n",
    "y_pred[0:3]\n"
   ]
  },
  {
   "cell_type": "code",
   "execution_count": 1290,
   "metadata": {},
   "outputs": [
    {
     "data": {
      "text/html": [
       "<div>\n",
       "<style scoped>\n",
       "    .dataframe tbody tr th:only-of-type {\n",
       "        vertical-align: middle;\n",
       "    }\n",
       "\n",
       "    .dataframe tbody tr th {\n",
       "        vertical-align: top;\n",
       "    }\n",
       "\n",
       "    .dataframe thead th {\n",
       "        text-align: right;\n",
       "    }\n",
       "</style>\n",
       "<table border=\"1\" class=\"dataframe\">\n",
       "  <thead>\n",
       "    <tr style=\"text-align: right;\">\n",
       "      <th></th>\n",
       "      <th>price</th>\n",
       "    </tr>\n",
       "  </thead>\n",
       "  <tbody>\n",
       "    <tr>\n",
       "      <td>359</td>\n",
       "      <td>7.863651</td>\n",
       "    </tr>\n",
       "    <tr>\n",
       "      <td>870</td>\n",
       "      <td>7.531016</td>\n",
       "    </tr>\n",
       "    <tr>\n",
       "      <td>1168</td>\n",
       "      <td>7.869784</td>\n",
       "    </tr>\n",
       "    <tr>\n",
       "      <td>198</td>\n",
       "      <td>8.826735</td>\n",
       "    </tr>\n",
       "    <tr>\n",
       "      <td>788</td>\n",
       "      <td>7.843064</td>\n",
       "    </tr>\n",
       "  </tbody>\n",
       "</table>\n",
       "</div>"
      ],
      "text/plain": [
       "         price\n",
       "359   7.863651\n",
       "870   7.531016\n",
       "1168  7.869784\n",
       "198   8.826735\n",
       "788   7.843064"
      ]
     },
     "execution_count": 1290,
     "metadata": {},
     "output_type": "execute_result"
    }
   ],
   "source": [
    "y_test.head()"
   ]
  },
  {
   "cell_type": "code",
   "execution_count": 1291,
   "metadata": {},
   "outputs": [
    {
     "data": {
      "text/plain": [
       "<matplotlib.axes._subplots.AxesSubplot at 0x18dc6c00240>"
      ]
     },
     "execution_count": 1291,
     "metadata": {},
     "output_type": "execute_result"
    },
    {
     "data": {
      "image/png": "[encoded data removed]",
      "text/plain": [
       "<Figure size 432x288 with 1 Axes>"
      ]
     },
     "metadata": {
      "needs_background": "light"
     },
     "output_type": "display_data"
    }
   ],
   "source": [
    "sns.distplot(y_test-y_pred,bins=50)\n"
   ]
  },
  {
   "cell_type": "code",
   "execution_count": 1292,
   "metadata": {},
   "outputs": [
    {
     "data": {
      "text/plain": [
       "<matplotlib.collections.PathCollection at 0x18d8009db70>"
      ]
     },
     "execution_count": 1292,
     "metadata": {},
     "output_type": "execute_result"
    },
    {
     "data": {
      "image/png": "[encoded data removed]",
      "text/plain": [
       "<Figure size 432x288 with 1 Axes>"
      ]
     },
     "metadata": {
      "needs_background": "light"
     },
     "output_type": "display_data"
    }
   ],
   "source": [
    "plt.scatter(y_test,y_pred)"
   ]
  },
  {
   "cell_type": "code",
   "execution_count": 1293,
   "metadata": {},
   "outputs": [
    {
     "name": "stdout",
     "output_type": "stream",
     "text": [
      "MAE: 0.2999299079446813\n",
      "MSE: 0.17729680286790045\n",
      "RMSE: 0.4210662689742559\n"
     ]
    }
   ],
   "source": [
    "print('MAE:', metrics.mean_absolute_error(y_test, y_pred))\n",
    "print('MSE:', metrics.mean_squared_error(y_test, y_pred))\n",
    "print('RMSE:', np.sqrt(metrics.mean_squared_error(y_test, y_pred)))"
   ]
  },
  {
   "cell_type": "code",
   "execution_count": null,
   "metadata": {},
   "outputs": [],
   "source": []
  },
  {
   "cell_type": "code",
   "execution_count": null,
   "metadata": {},
   "outputs": [],
   "source": [
    "### Polynomial regression"
   ]
  },
  {
   "cell_type": "code",
   "execution_count": 1298,
   "metadata": {},
   "outputs": [],
   "source": [
    "from sklearn.preprocessing import PolynomialFeatures\n",
    "poly = PolynomialFeatures(degree = 2)\n",
    "X_train_poly = poly.fit_transform(X_train)\n",
    "X_test_poly = poly.fit_transform(X_test)\n",
    "\n",
    "reg_all = LinearRegression()\n",
    "reg_all.fit(X_train_poly,y_train)\n",
    "y_pred=reg_all.predict(X_test_poly)"
   ]
  },
  {
   "cell_type": "code",
   "execution_count": 1299,
   "metadata": {},
   "outputs": [
    {
     "name": "stdout",
     "output_type": "stream",
     "text": [
      "MAE: 898726.9045508087\n",
      "MSE: 69247544326063.85\n",
      "RMSE: 8321510.94009158\n"
     ]
    }
   ],
   "source": [
    "print('MAE:', metrics.mean_absolute_error(y_test, y_pred))\n",
    "print('MSE:', metrics.mean_squared_error(y_test, y_pred))\n",
    "print('RMSE:', np.sqrt(metrics.mean_squared_error(y_test, y_pred)))"
   ]
  },
  {
   "cell_type": "code",
   "execution_count": 1300,
   "metadata": {},
   "outputs": [],
   "source": [
    "### SVM support vector machines\n"
   ]
  },
  {
   "cell_type": "code",
   "execution_count": 1301,
   "metadata": {},
   "outputs": [
    {
     "name": "stderr",
     "output_type": "stream",
     "text": [
      "c:\\program files\\python37\\lib\\site-packages\\sklearn\\utils\\validation.py:724: DataConversionWarning: A column-vector y was passed when a 1d array was expected. Please change the shape of y to (n_samples, ), for example using ravel().\n",
      "  y = column_or_1d(y, warn=True)\n",
      "c:\\program files\\python37\\lib\\site-packages\\sklearn\\svm\\base.py:193: FutureWarning: The default value of gamma will change from 'auto' to 'scale' in version 0.22 to account better for unscaled features. Set gamma explicitly to 'auto' or 'scale' to avoid this warning.\n",
      "  \"avoid this warning.\", FutureWarning)\n"
     ]
    }
   ],
   "source": [
    "from sklearn.svm import SVR\n",
    "\n",
    "regressor = SVR(kernel='rbf')\n",
    "regressor.fit(X_train,y_train)\n",
    "y_pred = regressor.predict(X_test)\n"
   ]
  },
  {
   "cell_type": "code",
   "execution_count": 1302,
   "metadata": {},
   "outputs": [
    {
     "name": "stdout",
     "output_type": "stream",
     "text": [
      "MAE: 0.11289679119235742\n",
      "MSE: 0.02766726274929755\n",
      "RMSE: 0.16633479115716457\n"
     ]
    }
   ],
   "source": [
    "print('MAE:', metrics.mean_absolute_error(y_test, y_pred))\n",
    "print('MSE:', metrics.mean_squared_error(y_test, y_pred))\n",
    "print('RMSE:', np.sqrt(metrics.mean_squared_error(y_test, y_pred)))"
   ]
  },
  {
   "cell_type": "raw",
   "metadata": {},
   "source": [
    "### Random forest"
   ]
  },
  {
   "cell_type": "raw",
   "metadata": {},
   "source": [
    "'''from sklearn.ensemble import RandomForestClassifier\n",
    "regressor = RandomForestClassifier(n_estimators = 6)\n",
    "regressor.fit(X_train,Y_train)\n",
    "y_pred = rf.predict(X_test)\n",
    "'''"
   ]
  },
  {
   "cell_type": "raw",
   "metadata": {},
   "source": [
    "### Neural network"
   ]
  },
  {
   "cell_type": "raw",
   "metadata": {},
   "source": [
    "from keras.models import Sequential, model_from_json\n",
    "from keras.layers import Dense\n",
    "from keras.optimizers import RMSprop\n",
    "\n",
    "from keras.wrappers.scikit_learn import KerasRegressor\n",
    "from sklearn.model_selection import cross_val_score\n",
    "from sklearn.model_selection import KFold\n",
    "from sklearn.preprocessing import StandardScaler\n",
    "from sklearn.pipeline import Pipeline\n"
   ]
  },
  {
   "cell_type": "raw",
   "metadata": {},
   "source": [
    "#### https://keras.io/scikit-learn-api/\n",
    "#### https://www.programcreek.com/python/example/88638/keras.wrappers.scikit_learn.KerasRegressor\n",
    "1. construct, compile and return a Keras model, which will then be used to fit/predict.\n",
    "2. Predict diamond prices\n",
    "3. ypred vs. ytest now\n"
   ]
  },
  {
   "cell_type": "raw",
   "metadata": {},
   "source": [
    "\n",
    "# define base model\n",
    "def baseline_model():\n",
    "    # create model\n",
    "    model = Sequential()\n",
    "    # add 1wsst layer\n",
    "    model.add(Dense(output_dim=3, input_dim=6, kernel_initializer='normal', activation='relu'))\n",
    "    # add hidden layer\n",
    "    model.add(Dense(output_dim=3, kernel_initializer='normal', activation='relu'))\n",
    "    # add output layer\n",
    "    model.add(Dense(1, kernel_initializer='normal'))\n",
    "    # Compile model\n",
    "    model.compile(loss='mean_squared_error', optimizer='adam')\n",
    "    return model\n",
    "\n",
    "'''\n",
    "model = Sequential()\n",
    "model.add(Dense(256, activation='relu', input_shape=(8,)))\n",
    "model.add(Dense(256, activation='relu'))\n",
    "model.add(Dense(256, activation='relu'))\n",
    "model.add(Dense(256, activation='relu'))\n",
    "model.add(Dense(1, activation='relu'))\n",
    "model.summary()\n",
    "model.compile(loss='mean_absolute_error', optimizer='adam', metrics=['mean_absolute_error','mean_squared_error'])history = model.fit(X_train,Y_train,batch_size=64,epochs=100,verbose=2)\n",
    "test=model.evaluate(X_test, Y_test, verbose=1)\n",
    "'''\n"
   ]
  },
  {
   "cell_type": "raw",
   "metadata": {},
   "source": [
    "estimator = KerasRegressor(build_fn=baseline_model, epochs=20, batch_size=5)\n",
    "\n",
    "kfold = KFold(n_splits=10)\n",
    "results = cross_val_score(estimator, X_train, y_train, cv=kfold)\n",
    "print(\"Results: %.2f (%.2f) MSE\" % (results.mean(), results.std()))"
   ]
  },
  {
   "cell_type": "raw",
   "metadata": {},
   "source": []
  },
  {
   "cell_type": "raw",
   "metadata": {},
   "source": [
    "estimator.fit(X_train, y_train)\n",
    "y_pred = estimator.predict(X_test)\n",
    "y_pred[0:5]\n",
    "\n",
    "plt.scatter(y_test,y_pred)\n",
    "#accuracy_score(y_test, prediction)"
   ]
  },
  {
   "cell_type": "code",
   "execution_count": null,
   "metadata": {},
   "outputs": [],
   "source": []
  }
 ],
 "metadata": {
  "kernelspec": {
   "display_name": "Python 3",
   "language": "python",
   "name": "python3"
  },
  "language_info": {
   "codemirror_mode": {
    "name": "ipython",
    "version": 3
   },
   "file_extension": ".py",
   "mimetype": "text/x-python",
   "name": "python",
   "nbconvert_exporter": "python",
   "pygments_lexer": "ipython3",
   "version": "3.7.2"
  }
 },
 "nbformat": 4,
 "nbformat_minor": 2
}
