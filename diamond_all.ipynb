{
 "cells": [
  {
   "cell_type": "markdown",
   "metadata": {},
   "source": [
    "# <font color='navy'> PREDICTING DIAMOND PRICES </font>"
   ]
  },
  {
   "cell_type": "markdown",
   "metadata": {},
   "source": [
    "## Get data"
   ]
  },
  {
   "cell_type": "markdown",
   "metadata": {},
   "source": [
    "### 1. Importing all libraries"
   ]
  },
  {
   "cell_type": "code",
   "execution_count": 69,
   "metadata": {},
   "outputs": [],
   "source": [
    "\n",
    "import pandas as pd\n",
    "import numpy as np\n",
    "import matplotlib.pyplot as plt\n",
    "import seaborn as sns\n",
    "%matplotlib inline\n",
    "\n",
    "from sklearn import preprocessing"
   ]
  },
  {
   "cell_type": "markdown",
   "metadata": {},
   "source": [
    "### 2. Getting the data\n",
    "* Data is dowloaded from Kaggle database - it has basic data on more than 54000 diamonds.\n",
    "* Lets initially use data on diamonds with carat size less than 0.3 carats for exploratory data analysis along with simpler & faster ML algo\n"
   ]
  },
  {
   "cell_type": "code",
   "execution_count": 70,
   "metadata": {},
   "outputs": [
    {
     "data": {
      "text/html": [
       "<div>\n",
       "<style scoped>\n",
       "    .dataframe tbody tr th:only-of-type {\n",
       "        vertical-align: middle;\n",
       "    }\n",
       "\n",
       "    .dataframe tbody tr th {\n",
       "        vertical-align: top;\n",
       "    }\n",
       "\n",
       "    .dataframe thead th {\n",
       "        text-align: right;\n",
       "    }\n",
       "</style>\n",
       "<table border=\"1\" class=\"dataframe\">\n",
       "  <thead>\n",
       "    <tr style=\"text-align: right;\">\n",
       "      <th></th>\n",
       "      <th>carat</th>\n",
       "      <th>cut</th>\n",
       "      <th>color</th>\n",
       "      <th>clarity</th>\n",
       "      <th>depth</th>\n",
       "      <th>table</th>\n",
       "      <th>price</th>\n",
       "      <th>l</th>\n",
       "      <th>w</th>\n",
       "      <th>d</th>\n",
       "    </tr>\n",
       "  </thead>\n",
       "  <tbody>\n",
       "    <tr>\n",
       "      <td>0</td>\n",
       "      <td>0.23</td>\n",
       "      <td>Ideal</td>\n",
       "      <td>E</td>\n",
       "      <td>SI2</td>\n",
       "      <td>61.5</td>\n",
       "      <td>55.0</td>\n",
       "      <td>326</td>\n",
       "      <td>3.95</td>\n",
       "      <td>3.98</td>\n",
       "      <td>2.43</td>\n",
       "    </tr>\n",
       "    <tr>\n",
       "      <td>1</td>\n",
       "      <td>0.21</td>\n",
       "      <td>Premium</td>\n",
       "      <td>E</td>\n",
       "      <td>SI1</td>\n",
       "      <td>59.8</td>\n",
       "      <td>61.0</td>\n",
       "      <td>326</td>\n",
       "      <td>3.89</td>\n",
       "      <td>3.84</td>\n",
       "      <td>2.31</td>\n",
       "    </tr>\n",
       "    <tr>\n",
       "      <td>2</td>\n",
       "      <td>0.23</td>\n",
       "      <td>Good</td>\n",
       "      <td>E</td>\n",
       "      <td>VS1</td>\n",
       "      <td>56.9</td>\n",
       "      <td>65.0</td>\n",
       "      <td>327</td>\n",
       "      <td>4.05</td>\n",
       "      <td>4.07</td>\n",
       "      <td>2.31</td>\n",
       "    </tr>\n",
       "  </tbody>\n",
       "</table>\n",
       "</div>"
      ],
      "text/plain": [
       "   carat      cut color clarity  depth  table  price     l     w     d\n",
       "0   0.23    Ideal     E     SI2   61.5   55.0    326  3.95  3.98  2.43\n",
       "1   0.21  Premium     E     SI1   59.8   61.0    326  3.89  3.84  2.31\n",
       "2   0.23     Good     E     VS1   56.9   65.0    327  4.05  4.07  2.31"
      ]
     },
     "metadata": {},
     "output_type": "display_data"
    }
   ],
   "source": [
    "df = pd.read_csv(\"diamonds.csv\")\n",
    "df.drop('Unnamed: 0', axis=1, inplace=True)\n",
    "display(df.head(3))"
   ]
  },
  {
   "cell_type": "markdown",
   "metadata": {},
   "source": [
    "## Data pre-processing"
   ]
  },
  {
   "cell_type": "markdown",
   "metadata": {},
   "source": [
    "### Check if any null values present"
   ]
  },
  {
   "cell_type": "code",
   "execution_count": 72,
   "metadata": {},
   "outputs": [
    {
     "data": {
      "text/plain": [
       "carat      0\n",
       "cut        0\n",
       "color      0\n",
       "clarity    0\n",
       "depth      0\n",
       "table      0\n",
       "price      0\n",
       "l          0\n",
       "w          0\n",
       "d          0\n",
       "dtype: int64"
      ]
     },
     "execution_count": 72,
     "metadata": {},
     "output_type": "execute_result"
    }
   ],
   "source": [
    "df.isnull().sum()"
   ]
  },
  {
   "cell_type": "markdown",
   "metadata": {},
   "source": [
    "### List all categories of the 3 categorical columns: cut, clarity and color\n",
    "> Remember, making a SET out of a series in a way means finding unique values, since a SET can have only unique values "
   ]
  },
  {
   "cell_type": "code",
   "execution_count": 73,
   "metadata": {
    "scrolled": true
   },
   "outputs": [
    {
     "name": "stdout",
     "output_type": "stream",
     "text": [
      "Cut:  {'Very Good', 'Fair', 'Ideal', 'Premium', 'Good'}\n",
      "Color:  {'F', 'H', 'G', 'I', 'J', 'D', 'E'}\n",
      "Clarity:  {'SI2', 'IF', 'VS1', 'VVS2', 'SI1', 'VVS1', 'VS2', 'I1'}\n"
     ]
    }
   ],
   "source": [
    "print(\"Cut: \",set(df[\"cut\"]))\n",
    "print(\"Color: \",set(df[\"color\"]))\n",
    "print(\"Clarity: \",set(df[\"clarity\"]))"
   ]
  },
  {
   "cell_type": "markdown",
   "metadata": {},
   "source": [
    "#### Since the data is old, we increase the price by 15% based on the price trends graphs from:\n",
    "* https://www.statista.com/statistics/279053/worldwide-sales-of-polished-diamonds/\n",
    "* https://www.pricescope.com/diamond-prices/diamond-prices-chart/\n",
    "* https://www.pricescope.com/diamond-prices/diamond-prices-chart/"
   ]
  },
  {
   "cell_type": "code",
   "execution_count": 74,
   "metadata": {},
   "outputs": [
    {
     "name": "stdout",
     "output_type": "stream",
     "text": [
      "0    326\n",
      "1    326\n",
      "2    327\n",
      "3    334\n",
      "4    335\n",
      "Name: price, dtype: int64\n",
      "0    374.90\n",
      "1    374.90\n",
      "2    376.05\n",
      "3    384.10\n",
      "4    385.25\n",
      "Name: price, dtype: float64\n"
     ]
    }
   ],
   "source": [
    "print(df['price'].head())\n",
    "df['price'] = df['price'] *1.15\n",
    "print(df['price'].head())"
   ]
  },
  {
   "cell_type": "markdown",
   "metadata": {},
   "source": [
    "### Data visualisation"
   ]
  },
  {
   "cell_type": "markdown",
   "metadata": {},
   "source": [
    "#### 1. Pair-Plot Price vs. 4 Cs.\n",
    "Read more about 4Cs at https://4cs.gia.edu/en-us/4cs-diamond-quality/ or video at https://www.diamonds.pro/education/4cs-diamonds/"
   ]
  },
  {
   "cell_type": "code",
   "execution_count": 75,
   "metadata": {},
   "outputs": [
    {
     "data": {
      "image/png": "[encoded data removed]",
      "text/plain": [
       "<Figure size 900x180 with 5 Axes>"
      ]
     },
     "metadata": {
      "needs_background": "light"
     },
     "output_type": "display_data"
    }
   ],
   "source": [
    "df['size']=df['l']*df['w']*df['d']\n",
    "sns.pairplot(df, x_vars=['carat', 'cut', 'clarity', 'color', 'size'], y_vars = ['price'])\n",
    "plt.show()\n",
    "df.drop(['size'], axis=1, inplace=True)"
   ]
  },
  {
   "cell_type": "markdown",
   "metadata": {},
   "source": [
    "#### 2. Plot histogram for every feature including price"
   ]
  },
  {
   "cell_type": "markdown",
   "metadata": {},
   "source": [
    "* Define histplot function"
   ]
  },
  {
   "cell_type": "code",
   "execution_count": 76,
   "metadata": {},
   "outputs": [],
   "source": [
    "def histplot(df, listvar):\n",
    "    fig, axes = plt.subplots(nrows=1, ncols=len(listvar), figsize=(20, 3))\n",
    "    counter=0\n",
    "    for ax in axes:\n",
    "        df.hist(column=listvar[counter], bins=20, ax=axes[counter])\n",
    "        plt.ylabel('Price')\n",
    "        plt.xlabel(listvar[counter])\n",
    "        counter = counter+1\n",
    "    plt.show()\n"
   ]
  },
  {
   "cell_type": "markdown",
   "metadata": {},
   "source": [
    "* Plot historam for every feature including price"
   ]
  },
  {
   "cell_type": "code",
   "execution_count": 77,
   "metadata": {},
   "outputs": [
    {
     "data": {
      "text/plain": [
       "['carat', 'depth', 'table', 'price', 'l', 'w', 'd']"
      ]
     },
     "metadata": {},
     "output_type": "display_data"
    },
    {
     "data": {
      "image/png": "[encoded data removed]",
      "text/plain": [
       "<Figure size 1440x216 with 7 Axes>"
      ]
     },
     "metadata": {
      "needs_background": "light"
     },
     "output_type": "display_data"
    }
   ],
   "source": [
    "linear_vars = df.select_dtypes(include=[np.number]).columns\n",
    "display(list(linear_vars))\n",
    "\n",
    "histplot(df,linear_vars)"
   ]
  },
  {
   "cell_type": "markdown",
   "metadata": {},
   "source": [
    "#### 3.  \n",
    "<font color = 'navy'><i><b> 1. Check if any value amongst table, depth, l, w, d is 0\n",
    "    <br> 2. Add 0.01 to all to make non-zero values  </i></b></font>"
   ]
  },
  {
   "cell_type": "code",
   "execution_count": 78,
   "metadata": {},
   "outputs": [
    {
     "name": "stdout",
     "output_type": "stream",
     "text": [
      "0 values --> True\n",
      "Filled all 0 values with 0.01. Now any 0 values? --> False\n"
     ]
    }
   ],
   "source": [
    "print('0 values -->', 0 in df.values)\n",
    "df[linear_vars] = df[linear_vars] + 0.01\n",
    "print('Filled all 0 values with 0.01. Now any 0 values? -->', 0 in df.values)"
   ]
  },
  {
   "cell_type": "markdown",
   "metadata": {},
   "source": [
    "<font color = 'navy'><i><b>3. View outliers</b></i></font>"
   ]
  },
  {
   "cell_type": "code",
   "execution_count": 79,
   "metadata": {},
   "outputs": [
    {
     "data": {
      "text/plain": [
       "'sorted by carat --> [5.02, 4.51, 4.14, 4.02, 4.02]'"
      ]
     },
     "metadata": {},
     "output_type": "display_data"
    },
    {
     "data": {
      "text/plain": [
       "'sorted by depth --> [79.01, 79.01, 78.21000000000001, 73.61, 72.91000000000001]'"
      ]
     },
     "metadata": {},
     "output_type": "display_data"
    },
    {
     "data": {
      "text/plain": [
       "'sorted by table --> [95.01, 79.01, 76.01, 73.01, 73.01]'"
      ]
     },
     "metadata": {},
     "output_type": "display_data"
    },
    {
     "data": {
      "text/plain": [
       "'sorted by price --> [21646.459999999995, 21640.709999999995, 21626.909999999996, 21624.609999999997, 21623.459999999995]'"
      ]
     },
     "metadata": {},
     "output_type": "display_data"
    },
    {
     "data": {
      "text/plain": [
       "'sorted by l --> [10.75, 10.24, 10.15, 10.03, 10.02]'"
      ]
     },
     "metadata": {},
     "output_type": "display_data"
    },
    {
     "data": {
      "text/plain": [
       "'sorted by w --> [58.91, 31.810000000000002, 10.549999999999999, 10.17, 10.11]'"
      ]
     },
     "metadata": {},
     "output_type": "display_data"
    },
    {
     "data": {
      "text/plain": [
       "'sorted by d --> [31.810000000000002, 8.07, 6.99, 6.7299999999999995, 6.4399999999999995]'"
      ]
     },
     "metadata": {},
     "output_type": "display_data"
    }
   ],
   "source": [
    "def sorteddf(df, listvar):\n",
    "    for var in listvar:\n",
    "        display('sorted by ' + var + ' --> ' + str(list(df[listvar].sort_values(by=var,ascending=False)[var].head())))\n",
    "\n",
    "sorteddf(df, linear_vars)      "
   ]
  },
  {
   "cell_type": "markdown",
   "metadata": {},
   "source": [
    "----> We see that there are some outliers for w,d.\n",
    "<br>Lets visualise those using boxplots"
   ]
  },
  {
   "cell_type": "code",
   "execution_count": 80,
   "metadata": {},
   "outputs": [
    {
     "data": {
      "image/png": "[encoded data removed]",
      "text/plain": [
       "<Figure size 1440x216 with 7 Axes>"
      ]
     },
     "metadata": {
      "needs_background": "light"
     },
     "output_type": "display_data"
    }
   ],
   "source": [
    "def dfboxplot(df, listvar):\n",
    "    fig, axes = plt.subplots(nrows=1, ncols=len(listvar), figsize=(20, 3))\n",
    "    counter=0\n",
    "    for ax in axes:\n",
    "        df.boxplot(column=listvar[counter], ax=axes[counter])\n",
    "        plt.ylabel('Price')\n",
    "        plt.xlabel(listvar[counter])\n",
    "        counter = counter+1\n",
    "    plt.show()\n",
    "\n",
    "dfboxplot(df, linear_vars)\n"
   ]
  },
  {
   "cell_type": "markdown",
   "metadata": {},
   "source": [
    "<font color = 'navy'><i><b>Remove outliers using z-score</b></i></font>"
   ]
  },
  {
   "cell_type": "code",
   "execution_count": 81,
   "metadata": {},
   "outputs": [
    {
     "name": "stdout",
     "output_type": "stream",
     "text": [
      "53940\n",
      "53869\n"
     ]
    },
    {
     "data": {
      "image/png": "[encoded data removed]",
      "text/plain": [
       "<Figure size 1440x216 with 7 Axes>"
      ]
     },
     "metadata": {
      "needs_background": "light"
     },
     "output_type": "display_data"
    }
   ],
   "source": [
    "from scipy import stats\n",
    "# df2=df.copy()\n",
    "\n",
    "# see length of diamonds dataframe\n",
    "print(len(df))\n",
    "\n",
    "df = df[np.abs(stats.zscore(df['d'])) < 3]\n",
    "df = df[np.abs(stats.zscore(df['w'])) < 3]\n",
    "df = df[np.abs(stats.zscore(df['l'])) < 3]\n",
    "\n",
    "# see length of diamonds dataframe with outliers removed\n",
    "print(len(df))\n",
    "\n",
    "# view boxplot to confirm removal of outliers\n",
    "dfboxplot(df, linear_vars)"
   ]
  },
  {
   "cell_type": "code",
   "execution_count": null,
   "metadata": {},
   "outputs": [],
   "source": []
  },
  {
   "cell_type": "code",
   "execution_count": null,
   "metadata": {},
   "outputs": [],
   "source": []
  },
  {
   "cell_type": "code",
   "execution_count": null,
   "metadata": {},
   "outputs": [],
   "source": []
  },
  {
   "cell_type": "markdown",
   "metadata": {},
   "source": [
    "<font color = 'navy'><i><b>4. Convert to log</b></i></font>"
   ]
  },
  {
   "cell_type": "code",
   "execution_count": 82,
   "metadata": {
    "scrolled": false
   },
   "outputs": [
    {
     "data": {
      "image/png": "[encoded data removed]",
      "text/plain": [
       "<Figure size 1440x216 with 7 Axes>"
      ]
     },
     "metadata": {
      "needs_background": "light"
     },
     "output_type": "display_data"
    }
   ],
   "source": [
    "for var in linear_vars:\n",
    "    df[var] = np.log(df[var])\n",
    "\n",
    "histplot(df, linear_vars)\n",
    "\n",
    "# df.head()"
   ]
  },
  {
   "cell_type": "markdown",
   "metadata": {},
   "source": [
    "#### As expected, the price vs. carat chart is skewed "
   ]
  },
  {
   "cell_type": "code",
   "execution_count": 84,
   "metadata": {},
   "outputs": [],
   "source": [
    "# sns.distplot(df['price'])\n",
    "# plt.show()"
   ]
  },
  {
   "cell_type": "markdown",
   "metadata": {},
   "source": [
    "#### Since price is not normally distributed, we will log normal it.\n"
   ]
  },
  {
   "cell_type": "code",
   "execution_count": 85,
   "metadata": {},
   "outputs": [],
   "source": [
    "## transforming target variable using numpy.log1p\n",
    "# df['price_log'] = np.log1p(df['price'])\n",
    "\n",
    "# dist plot again\n",
    "# sns.distplot(df['price_log'])\n",
    "# plt.show()"
   ]
  },
  {
   "cell_type": "markdown",
   "metadata": {},
   "source": [
    "#### Since price is generally quoted as price per carat in Diamond market, lets use that aspect also."
   ]
  },
  {
   "cell_type": "code",
   "execution_count": null,
   "metadata": {},
   "outputs": [],
   "source": [
    "df['price_pct']=df['price']/df['carat']\n",
    "sns.pairplot(df, x_vars=['carat', 'cut', 'clarity', 'color'], y_vars = ['price_pct'])\n",
    "plt.show()\n",
    "print(df)\n"
   ]
  },
  {
   "cell_type": "code",
   "execution_count": null,
   "metadata": {},
   "outputs": [],
   "source": [
    "# dist plot again\n",
    "sns.distplot(df['price_pct'])\n",
    "plt.show()"
   ]
  },
  {
   "cell_type": "code",
   "execution_count": null,
   "metadata": {},
   "outputs": [],
   "source": [
    "# now drop price_pct\n",
    "df.drop(['price_pct'], axis=1, inplace=True)"
   ]
  },
  {
   "cell_type": "code",
   "execution_count": null,
   "metadata": {},
   "outputs": [],
   "source": []
  },
  {
   "cell_type": "markdown",
   "metadata": {},
   "source": [
    "## Data Preprocessing"
   ]
  },
  {
   "cell_type": "markdown",
   "metadata": {},
   "source": [
    "### 1. Determine mean values of categories of all category columns like cut, clarity and color\n",
    "* Do a dataframe groupby to find mean. \n",
    "\n",
    "* Sort_values sorts result by resulting values, NOT but category label"
   ]
  },
  {
   "cell_type": "code",
   "execution_count": 87,
   "metadata": {},
   "outputs": [
    {
     "name": "stdout",
     "output_type": "stream",
     "text": [
      "cut\n",
      "Ideal        7.778507\n",
      "Very Good    7.937849\n",
      "Good         7.979939\n",
      "Premium      8.087666\n",
      "Fair         8.220433\n",
      "Name: price, dtype: float64\n",
      "color\n",
      "E    7.718592\n",
      "D    7.755774\n",
      "F    7.901851\n",
      "G    7.928158\n",
      "H    8.055362\n",
      "I    8.157688\n",
      "J    8.279947\n",
      "Name: price, dtype: float64\n",
      "clarity\n",
      "VVS1    7.462100\n",
      "IF      7.544959\n",
      "VVS2    7.670612\n",
      "VS1     7.864263\n",
      "VS2     7.902189\n",
      "SI1     7.987401\n",
      "I1      8.115553\n",
      "SI2     8.302910\n",
      "Name: price, dtype: float64\n"
     ]
    }
   ],
   "source": [
    "\n",
    "# Addind a new column in same DF \n",
    "# df['price/wt']=df['price']/df['carat']\n",
    "\n",
    "# IMP: groupby in pandas dataframe\n",
    "print(df.groupby('cut')['price'].mean().sort_values())\n",
    "print(df.groupby('color')['price'].mean().sort_values())\n",
    "print(df.groupby('clarity')['price'].mean().sort_values())\n",
    "\n",
    "# df = df.drop(['price/wt'], axis=1)\n"
   ]
  },
  {
   "cell_type": "markdown",
   "metadata": {},
   "source": [
    "### 2. Set X and y now \n",
    "* NOTE: two quare brackets [[... ]] are needed to create a datarame. \n",
    "* Single [] will create a series / array"
   ]
  },
  {
   "cell_type": "code",
   "execution_count": 88,
   "metadata": {},
   "outputs": [
    {
     "data": {
      "text/html": [
       "<div>\n",
       "<style scoped>\n",
       "    .dataframe tbody tr th:only-of-type {\n",
       "        vertical-align: middle;\n",
       "    }\n",
       "\n",
       "    .dataframe tbody tr th {\n",
       "        vertical-align: top;\n",
       "    }\n",
       "\n",
       "    .dataframe thead th {\n",
       "        text-align: right;\n",
       "    }\n",
       "</style>\n",
       "<table border=\"1\" class=\"dataframe\">\n",
       "  <thead>\n",
       "    <tr style=\"text-align: right;\">\n",
       "      <th></th>\n",
       "      <th>carat</th>\n",
       "      <th>cut</th>\n",
       "      <th>color</th>\n",
       "      <th>clarity</th>\n",
       "      <th>depth</th>\n",
       "      <th>table</th>\n",
       "    </tr>\n",
       "  </thead>\n",
       "  <tbody>\n",
       "    <tr>\n",
       "      <td>0</td>\n",
       "      <td>-1.427116</td>\n",
       "      <td>Ideal</td>\n",
       "      <td>E</td>\n",
       "      <td>SI2</td>\n",
       "      <td>4.119200</td>\n",
       "      <td>4.007515</td>\n",
       "    </tr>\n",
       "    <tr>\n",
       "      <td>1</td>\n",
       "      <td>-1.514128</td>\n",
       "      <td>Premium</td>\n",
       "      <td>E</td>\n",
       "      <td>SI1</td>\n",
       "      <td>4.091173</td>\n",
       "      <td>4.111038</td>\n",
       "    </tr>\n",
       "    <tr>\n",
       "      <td>2</td>\n",
       "      <td>-1.427116</td>\n",
       "      <td>Good</td>\n",
       "      <td>E</td>\n",
       "      <td>VS1</td>\n",
       "      <td>4.041471</td>\n",
       "      <td>4.174541</td>\n",
       "    </tr>\n",
       "  </tbody>\n",
       "</table>\n",
       "</div>"
      ],
      "text/plain": [
       "      carat      cut color clarity     depth     table\n",
       "0 -1.427116    Ideal     E     SI2  4.119200  4.007515\n",
       "1 -1.514128  Premium     E     SI1  4.091173  4.111038\n",
       "2 -1.427116     Good     E     VS1  4.041471  4.174541"
      ]
     },
     "metadata": {},
     "output_type": "display_data"
    },
    {
     "data": {
      "text/html": [
       "<div>\n",
       "<style scoped>\n",
       "    .dataframe tbody tr th:only-of-type {\n",
       "        vertical-align: middle;\n",
       "    }\n",
       "\n",
       "    .dataframe tbody tr th {\n",
       "        vertical-align: top;\n",
       "    }\n",
       "\n",
       "    .dataframe thead th {\n",
       "        text-align: right;\n",
       "    }\n",
       "</style>\n",
       "<table border=\"1\" class=\"dataframe\">\n",
       "  <thead>\n",
       "    <tr style=\"text-align: right;\">\n",
       "      <th></th>\n",
       "      <th>price</th>\n",
       "    </tr>\n",
       "  </thead>\n",
       "  <tbody>\n",
       "    <tr>\n",
       "      <td>0</td>\n",
       "      <td>5.926686</td>\n",
       "    </tr>\n",
       "    <tr>\n",
       "      <td>1</td>\n",
       "      <td>5.926686</td>\n",
       "    </tr>\n",
       "    <tr>\n",
       "      <td>2</td>\n",
       "      <td>5.929749</td>\n",
       "    </tr>\n",
       "  </tbody>\n",
       "</table>\n",
       "</div>"
      ],
      "text/plain": [
       "      price\n",
       "0  5.926686\n",
       "1  5.926686\n",
       "2  5.929749"
      ]
     },
     "metadata": {},
     "output_type": "display_data"
    }
   ],
   "source": [
    "X_df = df.drop(['price', 'l', 'w', 'd'], axis=1)\n",
    "display(X_df.head(3))\n",
    "\n",
    "y_df = df[['price']] # two [[ to create a DF. Single [] will create a series / array\n",
    "display(y_df.head(3))"
   ]
  },
  {
   "cell_type": "markdown",
   "metadata": {},
   "source": [
    "### 3. Convert categorical column to numerical column using labelencoder"
   ]
  },
  {
   "cell_type": "code",
   "execution_count": 89,
   "metadata": {},
   "outputs": [
    {
     "data": {
      "text/html": [
       "<div>\n",
       "<style scoped>\n",
       "    .dataframe tbody tr th:only-of-type {\n",
       "        vertical-align: middle;\n",
       "    }\n",
       "\n",
       "    .dataframe tbody tr th {\n",
       "        vertical-align: top;\n",
       "    }\n",
       "\n",
       "    .dataframe thead th {\n",
       "        text-align: right;\n",
       "    }\n",
       "</style>\n",
       "<table border=\"1\" class=\"dataframe\">\n",
       "  <thead>\n",
       "    <tr style=\"text-align: right;\">\n",
       "      <th></th>\n",
       "      <th>carat</th>\n",
       "      <th>cut</th>\n",
       "      <th>color</th>\n",
       "      <th>clarity</th>\n",
       "      <th>depth</th>\n",
       "      <th>table</th>\n",
       "    </tr>\n",
       "  </thead>\n",
       "  <tbody>\n",
       "    <tr>\n",
       "      <td>0</td>\n",
       "      <td>-1.427116</td>\n",
       "      <td>2</td>\n",
       "      <td>1</td>\n",
       "      <td>3</td>\n",
       "      <td>4.119200</td>\n",
       "      <td>4.007515</td>\n",
       "    </tr>\n",
       "    <tr>\n",
       "      <td>1</td>\n",
       "      <td>-1.514128</td>\n",
       "      <td>3</td>\n",
       "      <td>1</td>\n",
       "      <td>2</td>\n",
       "      <td>4.091173</td>\n",
       "      <td>4.111038</td>\n",
       "    </tr>\n",
       "    <tr>\n",
       "      <td>2</td>\n",
       "      <td>-1.427116</td>\n",
       "      <td>1</td>\n",
       "      <td>1</td>\n",
       "      <td>4</td>\n",
       "      <td>4.041471</td>\n",
       "      <td>4.174541</td>\n",
       "    </tr>\n",
       "  </tbody>\n",
       "</table>\n",
       "</div>"
      ],
      "text/plain": [
       "      carat  cut  color  clarity     depth     table\n",
       "0 -1.427116    2      1        3  4.119200  4.007515\n",
       "1 -1.514128    3      1        2  4.091173  4.111038\n",
       "2 -1.427116    1      1        4  4.041471  4.174541"
      ]
     },
     "execution_count": 89,
     "metadata": {},
     "output_type": "execute_result"
    }
   ],
   "source": [
    "from sklearn.preprocessing import LabelEncoder, OneHotEncoder\n",
    "le = LabelEncoder()\n",
    "\n",
    "def convert_catg(df1):\n",
    "    \n",
    "    # Find the columns of object type along with their column index\n",
    "    object_cols = list(df1.select_dtypes(exclude=[np.number]).columns)\n",
    "    object_cols_ind = []\n",
    "    for col in object_cols:\n",
    "        object_cols_ind.append(df1.columns.get_loc(col))\n",
    "\n",
    "    # Encode the categorical columns with numbers    \n",
    "    for i in object_cols_ind:\n",
    "        df1.iloc[:,i] = le.fit_transform(df1.iloc[:,i])\n",
    "\n",
    "convert_catg(X_df)\n",
    "X_df.head(3)\n",
    "\n"
   ]
  },
  {
   "cell_type": "markdown",
   "metadata": {},
   "source": [
    "### 4.  Determine correlation between price vs all other attributes.\n",
    "* seems price is highly corr with carat (and dimensions) and fairly with color and clarity, not much with cut\n",
    "* combining both X (already converted categorical to numerical) and y to form a new dataframe for correlation\n",
    "\n",
    "> * **df_le = X_df** --> df_le will be like a pointer to X_df. Any change made to df_le will actually be a change to X_df\n",
    "> * So, df_le = X_df.**copy()** is better"
   ]
  },
  {
   "cell_type": "code",
   "execution_count": 90,
   "metadata": {},
   "outputs": [
    {
     "data": {
      "text/html": [
       "<div>\n",
       "<style scoped>\n",
       "    .dataframe tbody tr th:only-of-type {\n",
       "        vertical-align: middle;\n",
       "    }\n",
       "\n",
       "    .dataframe tbody tr th {\n",
       "        vertical-align: top;\n",
       "    }\n",
       "\n",
       "    .dataframe thead th {\n",
       "        text-align: right;\n",
       "    }\n",
       "</style>\n",
       "<table border=\"1\" class=\"dataframe\">\n",
       "  <thead>\n",
       "    <tr style=\"text-align: right;\">\n",
       "      <th></th>\n",
       "      <th>carat</th>\n",
       "      <th>cut</th>\n",
       "      <th>color</th>\n",
       "      <th>clarity</th>\n",
       "      <th>depth</th>\n",
       "      <th>table</th>\n",
       "      <th>price</th>\n",
       "    </tr>\n",
       "  </thead>\n",
       "  <tbody>\n",
       "    <tr>\n",
       "      <td>carat</td>\n",
       "      <td>1.000000</td>\n",
       "      <td>0.013518</td>\n",
       "      <td>0.259029</td>\n",
       "      <td>-0.231559</td>\n",
       "      <td>0.026325</td>\n",
       "      <td>0.192929</td>\n",
       "      <td>0.966228</td>\n",
       "    </tr>\n",
       "    <tr>\n",
       "      <td>cut</td>\n",
       "      <td>0.013518</td>\n",
       "      <td>1.000000</td>\n",
       "      <td>0.001051</td>\n",
       "      <td>0.027190</td>\n",
       "      <td>-0.184979</td>\n",
       "      <td>0.158760</td>\n",
       "      <td>0.024062</td>\n",
       "    </tr>\n",
       "    <tr>\n",
       "      <td>color</td>\n",
       "      <td>0.259029</td>\n",
       "      <td>0.001051</td>\n",
       "      <td>1.000000</td>\n",
       "      <td>-0.026550</td>\n",
       "      <td>0.046455</td>\n",
       "      <td>0.026027</td>\n",
       "      <td>0.153636</td>\n",
       "    </tr>\n",
       "    <tr>\n",
       "      <td>clarity</td>\n",
       "      <td>-0.231559</td>\n",
       "      <td>0.027190</td>\n",
       "      <td>-0.026550</td>\n",
       "      <td>1.000000</td>\n",
       "      <td>-0.049601</td>\n",
       "      <td>-0.087740</td>\n",
       "      <td>-0.118265</td>\n",
       "    </tr>\n",
       "    <tr>\n",
       "      <td>depth</td>\n",
       "      <td>0.026325</td>\n",
       "      <td>-0.184979</td>\n",
       "      <td>0.046455</td>\n",
       "      <td>-0.049601</td>\n",
       "      <td>1.000000</td>\n",
       "      <td>-0.299836</td>\n",
       "      <td>-0.001528</td>\n",
       "    </tr>\n",
       "    <tr>\n",
       "      <td>table</td>\n",
       "      <td>0.192929</td>\n",
       "      <td>0.158760</td>\n",
       "      <td>0.026027</td>\n",
       "      <td>-0.087740</td>\n",
       "      <td>-0.299836</td>\n",
       "      <td>1.000000</td>\n",
       "      <td>0.159600</td>\n",
       "    </tr>\n",
       "    <tr>\n",
       "      <td>price</td>\n",
       "      <td>0.966228</td>\n",
       "      <td>0.024062</td>\n",
       "      <td>0.153636</td>\n",
       "      <td>-0.118265</td>\n",
       "      <td>-0.001528</td>\n",
       "      <td>0.159600</td>\n",
       "      <td>1.000000</td>\n",
       "    </tr>\n",
       "  </tbody>\n",
       "</table>\n",
       "</div>"
      ],
      "text/plain": [
       "            carat       cut     color   clarity     depth     table     price\n",
       "carat    1.000000  0.013518  0.259029 -0.231559  0.026325  0.192929  0.966228\n",
       "cut      0.013518  1.000000  0.001051  0.027190 -0.184979  0.158760  0.024062\n",
       "color    0.259029  0.001051  1.000000 -0.026550  0.046455  0.026027  0.153636\n",
       "clarity -0.231559  0.027190 -0.026550  1.000000 -0.049601 -0.087740 -0.118265\n",
       "depth    0.026325 -0.184979  0.046455 -0.049601  1.000000 -0.299836 -0.001528\n",
       "table    0.192929  0.158760  0.026027 -0.087740 -0.299836  1.000000  0.159600\n",
       "price    0.966228  0.024062  0.153636 -0.118265 -0.001528  0.159600  1.000000"
      ]
     },
     "execution_count": 90,
     "metadata": {},
     "output_type": "execute_result"
    }
   ],
   "source": [
    "df_le = X_df.copy()\n",
    "\n",
    "# add a new column in dataframe - join 2 dataframe columns-wise\n",
    "df_le['price'] = y_df['price'].values\n",
    "df_le.corr()\n"
   ]
  },
  {
   "cell_type": "markdown",
   "metadata": {},
   "source": [
    "#### How cut is correlated to depth and table\n",
    "<img src=\"diam_attr.jpg\" alt=\"Diamond Attributes\" style=\"width: 400px;\"/>\n",
    "https://www.gia.edu/diamond-cut/diamond-cut-anatomy-round-brilliant\n",
    "\n",
    "* Since IDEAL cut has table and depth values along with crown, pavilion, culet etc in a emperically defined range, viewing the correlation of price with table and depth is of not much use. Nevertheless, its here."
   ]
  },
  {
   "cell_type": "code",
   "execution_count": 91,
   "metadata": {},
   "outputs": [
    {
     "data": {
      "text/html": [
       "<div>\n",
       "<style scoped>\n",
       "    .dataframe tbody tr th:only-of-type {\n",
       "        vertical-align: middle;\n",
       "    }\n",
       "\n",
       "    .dataframe tbody tr th {\n",
       "        vertical-align: top;\n",
       "    }\n",
       "\n",
       "    .dataframe thead th {\n",
       "        text-align: right;\n",
       "    }\n",
       "</style>\n",
       "<table border=\"1\" class=\"dataframe\">\n",
       "  <thead>\n",
       "    <tr style=\"text-align: right;\">\n",
       "      <th></th>\n",
       "      <th>cut</th>\n",
       "      <th>table</th>\n",
       "      <th>depth</th>\n",
       "    </tr>\n",
       "  </thead>\n",
       "  <tbody>\n",
       "    <tr>\n",
       "      <td>cut</td>\n",
       "      <td>1.000000</td>\n",
       "      <td>0.158760</td>\n",
       "      <td>-0.184979</td>\n",
       "    </tr>\n",
       "    <tr>\n",
       "      <td>table</td>\n",
       "      <td>0.158760</td>\n",
       "      <td>1.000000</td>\n",
       "      <td>-0.299836</td>\n",
       "    </tr>\n",
       "    <tr>\n",
       "      <td>depth</td>\n",
       "      <td>-0.184979</td>\n",
       "      <td>-0.299836</td>\n",
       "      <td>1.000000</td>\n",
       "    </tr>\n",
       "  </tbody>\n",
       "</table>\n",
       "</div>"
      ],
      "text/plain": [
       "            cut     table     depth\n",
       "cut    1.000000  0.158760 -0.184979\n",
       "table  0.158760  1.000000 -0.299836\n",
       "depth -0.184979 -0.299836  1.000000"
      ]
     },
     "execution_count": 91,
     "metadata": {},
     "output_type": "execute_result"
    }
   ],
   "source": [
    "df_le[['cut', 'table', 'depth']].corr()"
   ]
  },
  {
   "cell_type": "code",
   "execution_count": null,
   "metadata": {},
   "outputs": [],
   "source": []
  },
  {
   "cell_type": "markdown",
   "metadata": {},
   "source": [
    "#### Feature scaling - seems not needed here since we have log1p the price"
   ]
  },
  {
   "cell_type": "code",
   "execution_count": null,
   "metadata": {},
   "outputs": [],
   "source": [
    "'''from sklearn.preprocessing import StandardScaler\n",
    "sc_X = StandardScaler()\n",
    "\n",
    " \n",
    "# why fit_transform to X_train whereas transform to X_test?\n",
    "# Becasue StandardScaler has to be first fitted to X_train. Then StandardScaler will understand data type and wd need only transform\n",
    "      \n",
    "X_df = sc_X.fit_transform(X_df)\n",
    "X_df[0:3]\n",
    "\n",
    "'''"
   ]
  },
  {
   "cell_type": "markdown",
   "metadata": {},
   "source": [
    "# Run ML Model\n",
    "\n",
    "\n",
    "#### train test split"
   ]
  },
  {
   "cell_type": "code",
   "execution_count": 92,
   "metadata": {},
   "outputs": [
    {
     "data": {
      "text/html": [
       "<div>\n",
       "<style scoped>\n",
       "    .dataframe tbody tr th:only-of-type {\n",
       "        vertical-align: middle;\n",
       "    }\n",
       "\n",
       "    .dataframe tbody tr th {\n",
       "        vertical-align: top;\n",
       "    }\n",
       "\n",
       "    .dataframe thead th {\n",
       "        text-align: right;\n",
       "    }\n",
       "</style>\n",
       "<table border=\"1\" class=\"dataframe\">\n",
       "  <thead>\n",
       "    <tr style=\"text-align: right;\">\n",
       "      <th></th>\n",
       "      <th>carat</th>\n",
       "      <th>cut</th>\n",
       "      <th>color</th>\n",
       "      <th>clarity</th>\n",
       "      <th>depth</th>\n",
       "      <th>table</th>\n",
       "    </tr>\n",
       "  </thead>\n",
       "  <tbody>\n",
       "    <tr>\n",
       "      <td>35642</td>\n",
       "      <td>-1.139434</td>\n",
       "      <td>2</td>\n",
       "      <td>3</td>\n",
       "      <td>7</td>\n",
       "      <td>4.133726</td>\n",
       "      <td>4.025530</td>\n",
       "    </tr>\n",
       "    <tr>\n",
       "      <td>10373</td>\n",
       "      <td>0.148420</td>\n",
       "      <td>3</td>\n",
       "      <td>3</td>\n",
       "      <td>2</td>\n",
       "      <td>4.127296</td>\n",
       "      <td>4.060615</td>\n",
       "    </tr>\n",
       "    <tr>\n",
       "      <td>20561</td>\n",
       "      <td>0.444686</td>\n",
       "      <td>4</td>\n",
       "      <td>3</td>\n",
       "      <td>3</td>\n",
       "      <td>4.125682</td>\n",
       "      <td>4.094511</td>\n",
       "    </tr>\n",
       "    <tr>\n",
       "      <td>12580</td>\n",
       "      <td>0.190620</td>\n",
       "      <td>4</td>\n",
       "      <td>5</td>\n",
       "      <td>2</td>\n",
       "      <td>4.136925</td>\n",
       "      <td>4.064057</td>\n",
       "    </tr>\n",
       "    <tr>\n",
       "      <td>38441</td>\n",
       "      <td>-0.941609</td>\n",
       "      <td>2</td>\n",
       "      <td>1</td>\n",
       "      <td>4</td>\n",
       "      <td>4.128907</td>\n",
       "      <td>4.043227</td>\n",
       "    </tr>\n",
       "  </tbody>\n",
       "</table>\n",
       "</div>"
      ],
      "text/plain": [
       "          carat  cut  color  clarity     depth     table\n",
       "35642 -1.139434    2      3        7  4.133726  4.025530\n",
       "10373  0.148420    3      3        2  4.127296  4.060615\n",
       "20561  0.444686    4      3        3  4.125682  4.094511\n",
       "12580  0.190620    4      5        2  4.136925  4.064057\n",
       "38441 -0.941609    2      1        4  4.128907  4.043227"
      ]
     },
     "execution_count": 92,
     "metadata": {},
     "output_type": "execute_result"
    }
   ],
   "source": [
    "from sklearn.model_selection import train_test_split\n",
    "X_train, X_test, y_train, y_test = train_test_split(X_df, y_df, test_size=0.3, random_state=42)\n",
    "\n",
    "X_train.head()"
   ]
  },
  {
   "cell_type": "code",
   "execution_count": null,
   "metadata": {},
   "outputs": [],
   "source": [
    "# y_test['price'].rename_axis('ID').values"
   ]
  },
  {
   "cell_type": "markdown",
   "metadata": {},
   "source": [
    "### Linear ML model"
   ]
  },
  {
   "cell_type": "code",
   "execution_count": 93,
   "metadata": {},
   "outputs": [],
   "source": [
    "from sklearn.linear_model import LinearRegression\n",
    "\n",
    "reg_all = LinearRegression()\n",
    "reg_all.fit(X_train,y_train)\n",
    "\n",
    "y_pred=reg_all.predict(X_test)\n"
   ]
  },
  {
   "cell_type": "code",
   "execution_count": 94,
   "metadata": {},
   "outputs": [
    {
     "data": {
      "text/plain": [
       "<matplotlib.collections.PathCollection at 0x18da1a4fd30>"
      ]
     },
     "execution_count": 94,
     "metadata": {},
     "output_type": "execute_result"
    },
    {
     "data": {
      "image/png": "[encoded data removed]",
      "text/plain": [
       "<Figure size 432x288 with 1 Axes>"
      ]
     },
     "metadata": {
      "needs_background": "light"
     },
     "output_type": "display_data"
    }
   ],
   "source": [
    "import  matplotlib.pyplot as plt\n",
    "plt.scatter(y_test,y_pred)"
   ]
  },
  {
   "cell_type": "code",
   "execution_count": 95,
   "metadata": {},
   "outputs": [
    {
     "data": {
      "image/png": "[encoded data removed]",
      "text/plain": [
       "<Figure size 432x288 with 1 Axes>"
      ]
     },
     "metadata": {
      "needs_background": "light"
     },
     "output_type": "display_data"
    }
   ],
   "source": [
    "import seaborn as sns\n",
    "sns.distplot((y_test-y_pred),bins=50);"
   ]
  },
  {
   "cell_type": "markdown",
   "metadata": {},
   "source": [
    "### Regression Evaluation Metrics\n",
    "\n",
    "\n",
    "Here are three common evaluation metrics for regression problems:\n",
    "\n",
    "**Mean Absolute Error** (MAE) is the mean of the absolute value of the errors:\n",
    "\n",
    "$$\\frac 1n\\sum_{i=1}^n|y_i-\\hat{y}_i|$$\n",
    "\n",
    "**Mean Squared Error** (MSE) is the mean of the squared errors:\n",
    "\n",
    "$$\\frac 1n\\sum_{i=1}^n(y_i-\\hat{y}_i)^2$$\n",
    "\n",
    "**Root Mean Squared Error** (RMSE) is the square root of the mean of the squared errors:\n",
    "\n",
    "$$\\sqrt{\\frac 1n\\sum_{i=1}^n(y_i-\\hat{y}_i)^2}$$\n",
    "\n",
    "Comparing these metrics:\n",
    "\n",
    "- **MAE** is the easiest to understand, because it's the average error.\n",
    "- **MSE** is more popular than MAE, because MSE \"punishes\" larger errors, which tends to be useful in the real world.\n",
    "- **RMSE** is even more popular than MSE, because RMSE is interpretable in the \"y\" units.\n",
    "\n",
    "All of these are **loss functions**, because we want to minimize them."
   ]
  },
  {
   "cell_type": "code",
   "execution_count": 96,
   "metadata": {},
   "outputs": [
    {
     "name": "stdout",
     "output_type": "stream",
     "text": [
      "MAE: 0.15637349900264041\n",
      "MSE: 0.04254169975210906\n",
      "RMSE: 0.2062563932393589\n"
     ]
    }
   ],
   "source": [
    "from sklearn import metrics\n",
    "\n",
    "# The following are \n",
    "\n",
    "print('MAE:', metrics.mean_absolute_error(y_test, y_pred))\n",
    "print('MSE:', metrics.mean_squared_error(y_test, y_pred))\n",
    "print('RMSE:', np.sqrt(metrics.mean_squared_error(y_test, y_pred)))"
   ]
  },
  {
   "cell_type": "markdown",
   "metadata": {},
   "source": [
    "### KNN"
   ]
  },
  {
   "cell_type": "code",
   "execution_count": 97,
   "metadata": {},
   "outputs": [
    {
     "data": {
      "text/html": [
       "<div>\n",
       "<style scoped>\n",
       "    .dataframe tbody tr th:only-of-type {\n",
       "        vertical-align: middle;\n",
       "    }\n",
       "\n",
       "    .dataframe tbody tr th {\n",
       "        vertical-align: top;\n",
       "    }\n",
       "\n",
       "    .dataframe thead th {\n",
       "        text-align: right;\n",
       "    }\n",
       "</style>\n",
       "<table border=\"1\" class=\"dataframe\">\n",
       "  <thead>\n",
       "    <tr style=\"text-align: right;\">\n",
       "      <th></th>\n",
       "      <th>carat</th>\n",
       "      <th>cut</th>\n",
       "      <th>color</th>\n",
       "      <th>clarity</th>\n",
       "      <th>depth</th>\n",
       "      <th>table</th>\n",
       "    </tr>\n",
       "  </thead>\n",
       "  <tbody>\n",
       "    <tr>\n",
       "      <td>19178</td>\n",
       "      <td>0.385262</td>\n",
       "      <td>3</td>\n",
       "      <td>3</td>\n",
       "      <td>3</td>\n",
       "      <td>4.086144</td>\n",
       "      <td>4.077707</td>\n",
       "    </tr>\n",
       "    <tr>\n",
       "      <td>19905</td>\n",
       "      <td>0.039221</td>\n",
       "      <td>2</td>\n",
       "      <td>3</td>\n",
       "      <td>6</td>\n",
       "      <td>4.133726</td>\n",
       "      <td>4.043227</td>\n",
       "    </tr>\n",
       "    <tr>\n",
       "      <td>15641</td>\n",
       "      <td>0.009950</td>\n",
       "      <td>3</td>\n",
       "      <td>3</td>\n",
       "      <td>5</td>\n",
       "      <td>4.120824</td>\n",
       "      <td>4.060615</td>\n",
       "    </tr>\n",
       "    <tr>\n",
       "      <td>24205</td>\n",
       "      <td>0.457425</td>\n",
       "      <td>4</td>\n",
       "      <td>4</td>\n",
       "      <td>2</td>\n",
       "      <td>4.133726</td>\n",
       "      <td>4.060615</td>\n",
       "    </tr>\n",
       "    <tr>\n",
       "      <td>14782</td>\n",
       "      <td>0.198851</td>\n",
       "      <td>3</td>\n",
       "      <td>4</td>\n",
       "      <td>2</td>\n",
       "      <td>4.135327</td>\n",
       "      <td>4.060615</td>\n",
       "    </tr>\n",
       "  </tbody>\n",
       "</table>\n",
       "</div>"
      ],
      "text/plain": [
       "          carat  cut  color  clarity     depth     table\n",
       "19178  0.385262    3      3        3  4.086144  4.077707\n",
       "19905  0.039221    2      3        6  4.133726  4.043227\n",
       "15641  0.009950    3      3        5  4.120824  4.060615\n",
       "24205  0.457425    4      4        2  4.133726  4.060615\n",
       "14782  0.198851    3      4        2  4.135327  4.060615"
      ]
     },
     "execution_count": 97,
     "metadata": {},
     "output_type": "execute_result"
    }
   ],
   "source": [
    "X_test.head()"
   ]
  },
  {
   "cell_type": "code",
   "execution_count": 98,
   "metadata": {},
   "outputs": [
    {
     "data": {
      "text/plain": [
       "array([[9.11678119],\n",
       "       [9.18903888],\n",
       "       [8.81495034]])"
      ]
     },
     "execution_count": 98,
     "metadata": {},
     "output_type": "execute_result"
    }
   ],
   "source": [
    "from sklearn.neighbors import KNeighborsRegressor\n",
    "\n",
    "reg_all = KNeighborsRegressor(n_neighbors = 8, metric = 'minkowski', p = 2)\n",
    "reg_all.fit(X_train,y_train)\n",
    "y_pred=reg_all.predict(X_test)\n",
    "y_pred[0:3]\n"
   ]
  },
  {
   "cell_type": "code",
   "execution_count": 99,
   "metadata": {},
   "outputs": [
    {
     "data": {
      "text/html": [
       "<div>\n",
       "<style scoped>\n",
       "    .dataframe tbody tr th:only-of-type {\n",
       "        vertical-align: middle;\n",
       "    }\n",
       "\n",
       "    .dataframe tbody tr th {\n",
       "        vertical-align: top;\n",
       "    }\n",
       "\n",
       "    .dataframe thead th {\n",
       "        text-align: right;\n",
       "    }\n",
       "</style>\n",
       "<table border=\"1\" class=\"dataframe\">\n",
       "  <thead>\n",
       "    <tr style=\"text-align: right;\">\n",
       "      <th></th>\n",
       "      <th>price</th>\n",
       "    </tr>\n",
       "  </thead>\n",
       "  <tbody>\n",
       "    <tr>\n",
       "      <td>19178</td>\n",
       "      <td>9.118297</td>\n",
       "    </tr>\n",
       "    <tr>\n",
       "      <td>19905</td>\n",
       "      <td>9.182158</td>\n",
       "    </tr>\n",
       "    <tr>\n",
       "      <td>15641</td>\n",
       "      <td>8.883614</td>\n",
       "    </tr>\n",
       "    <tr>\n",
       "      <td>24205</td>\n",
       "      <td>9.564569</td>\n",
       "    </tr>\n",
       "    <tr>\n",
       "      <td>14782</td>\n",
       "      <td>8.830574</td>\n",
       "    </tr>\n",
       "  </tbody>\n",
       "</table>\n",
       "</div>"
      ],
      "text/plain": [
       "          price\n",
       "19178  9.118297\n",
       "19905  9.182158\n",
       "15641  8.883614\n",
       "24205  9.564569\n",
       "14782  8.830574"
      ]
     },
     "execution_count": 99,
     "metadata": {},
     "output_type": "execute_result"
    }
   ],
   "source": [
    "y_test.head()"
   ]
  },
  {
   "cell_type": "code",
   "execution_count": 100,
   "metadata": {},
   "outputs": [
    {
     "data": {
      "text/plain": [
       "<matplotlib.axes._subplots.AxesSubplot at 0x18d9eb3f1d0>"
      ]
     },
     "execution_count": 100,
     "metadata": {},
     "output_type": "execute_result"
    },
    {
     "data": {
      "image/png": "[encoded data removed]",
      "text/plain": [
       "<Figure size 432x288 with 1 Axes>"
      ]
     },
     "metadata": {
      "needs_background": "light"
     },
     "output_type": "display_data"
    }
   ],
   "source": [
    "sns.distplot(y_test-y_pred,bins=50)\n"
   ]
  },
  {
   "cell_type": "code",
   "execution_count": 101,
   "metadata": {},
   "outputs": [
    {
     "data": {
      "text/plain": [
       "<matplotlib.collections.PathCollection at 0x18da4020940>"
      ]
     },
     "execution_count": 101,
     "metadata": {},
     "output_type": "execute_result"
    },
    {
     "data": {
      "image/png": "[encoded data removed]",
      "text/plain": [
       "<Figure size 432x288 with 1 Axes>"
      ]
     },
     "metadata": {
      "needs_background": "light"
     },
     "output_type": "display_data"
    }
   ],
   "source": [
    "plt.scatter(y_test,y_pred)"
   ]
  },
  {
   "cell_type": "code",
   "execution_count": 102,
   "metadata": {},
   "outputs": [
    {
     "name": "stdout",
     "output_type": "stream",
     "text": [
      "MAE: 0.09184477188776183\n",
      "MSE: 0.01771443726810739\n",
      "RMSE: 0.13309559447294786\n"
     ]
    }
   ],
   "source": [
    "print('MAE:', metrics.mean_absolute_error(y_test, y_pred))\n",
    "print('MSE:', metrics.mean_squared_error(y_test, y_pred))\n",
    "print('RMSE:', np.sqrt(metrics.mean_squared_error(y_test, y_pred)))"
   ]
  },
  {
   "cell_type": "markdown",
   "metadata": {},
   "source": [
    "#### Now Predict on Pricescope data"
   ]
  },
  {
   "cell_type": "code",
   "execution_count": 103,
   "metadata": {},
   "outputs": [
    {
     "data": {
      "text/html": [
       "<div>\n",
       "<style scoped>\n",
       "    .dataframe tbody tr th:only-of-type {\n",
       "        vertical-align: middle;\n",
       "    }\n",
       "\n",
       "    .dataframe tbody tr th {\n",
       "        vertical-align: top;\n",
       "    }\n",
       "\n",
       "    .dataframe thead th {\n",
       "        text-align: right;\n",
       "    }\n",
       "</style>\n",
       "<table border=\"1\" class=\"dataframe\">\n",
       "  <thead>\n",
       "    <tr style=\"text-align: right;\">\n",
       "      <th></th>\n",
       "      <th>carat</th>\n",
       "      <th>cut</th>\n",
       "      <th>color</th>\n",
       "      <th>clarity</th>\n",
       "      <th>depth</th>\n",
       "      <th>table</th>\n",
       "    </tr>\n",
       "  </thead>\n",
       "  <tbody>\n",
       "    <tr>\n",
       "      <td>0</td>\n",
       "      <td>0.23</td>\n",
       "      <td>Premium</td>\n",
       "      <td>D</td>\n",
       "      <td>IF</td>\n",
       "      <td>61.5</td>\n",
       "      <td>55</td>\n",
       "    </tr>\n",
       "    <tr>\n",
       "      <td>1</td>\n",
       "      <td>0.23</td>\n",
       "      <td>Premium</td>\n",
       "      <td>D</td>\n",
       "      <td>VVS1</td>\n",
       "      <td>61.8</td>\n",
       "      <td>56</td>\n",
       "    </tr>\n",
       "    <tr>\n",
       "      <td>2</td>\n",
       "      <td>0.23</td>\n",
       "      <td>Premium</td>\n",
       "      <td>D</td>\n",
       "      <td>VVS1</td>\n",
       "      <td>61.4</td>\n",
       "      <td>55</td>\n",
       "    </tr>\n",
       "    <tr>\n",
       "      <td>3</td>\n",
       "      <td>0.23</td>\n",
       "      <td>Premium</td>\n",
       "      <td>D</td>\n",
       "      <td>VVS1</td>\n",
       "      <td>61.5</td>\n",
       "      <td>56</td>\n",
       "    </tr>\n",
       "    <tr>\n",
       "      <td>4</td>\n",
       "      <td>0.23</td>\n",
       "      <td>Premium</td>\n",
       "      <td>D</td>\n",
       "      <td>VVS2</td>\n",
       "      <td>61.9</td>\n",
       "      <td>55</td>\n",
       "    </tr>\n",
       "  </tbody>\n",
       "</table>\n",
       "</div>"
      ],
      "text/plain": [
       "   carat      cut color clarity  depth  table\n",
       "0   0.23  Premium     D      IF   61.5     55\n",
       "1   0.23  Premium     D    VVS1   61.8     56\n",
       "2   0.23  Premium     D    VVS1   61.4     55\n",
       "3   0.23  Premium     D    VVS1   61.5     56\n",
       "4   0.23  Premium     D    VVS2   61.9     55"
      ]
     },
     "execution_count": 103,
     "metadata": {},
     "output_type": "execute_result"
    }
   ],
   "source": [
    "ps = pd.read_csv('pricescope.csv')\n",
    "Xps2 = ps.drop(['Unnamed: 0', 'price'], axis=1)\n",
    "Xps2.head()"
   ]
  },
  {
   "cell_type": "code",
   "execution_count": 104,
   "metadata": {},
   "outputs": [
    {
     "data": {
      "text/html": [
       "<div>\n",
       "<style scoped>\n",
       "    .dataframe tbody tr th:only-of-type {\n",
       "        vertical-align: middle;\n",
       "    }\n",
       "\n",
       "    .dataframe tbody tr th {\n",
       "        vertical-align: top;\n",
       "    }\n",
       "\n",
       "    .dataframe thead th {\n",
       "        text-align: right;\n",
       "    }\n",
       "</style>\n",
       "<table border=\"1\" class=\"dataframe\">\n",
       "  <thead>\n",
       "    <tr style=\"text-align: right;\">\n",
       "      <th></th>\n",
       "      <th>price</th>\n",
       "    </tr>\n",
       "  </thead>\n",
       "  <tbody>\n",
       "    <tr>\n",
       "      <td>0</td>\n",
       "      <td>634</td>\n",
       "    </tr>\n",
       "    <tr>\n",
       "      <td>1</td>\n",
       "      <td>606</td>\n",
       "    </tr>\n",
       "    <tr>\n",
       "      <td>2</td>\n",
       "      <td>646</td>\n",
       "    </tr>\n",
       "    <tr>\n",
       "      <td>3</td>\n",
       "      <td>773</td>\n",
       "    </tr>\n",
       "    <tr>\n",
       "      <td>4</td>\n",
       "      <td>606</td>\n",
       "    </tr>\n",
       "  </tbody>\n",
       "</table>\n",
       "</div>"
      ],
      "text/plain": [
       "   price\n",
       "0    634\n",
       "1    606\n",
       "2    646\n",
       "3    773\n",
       "4    606"
      ]
     },
     "execution_count": 104,
     "metadata": {},
     "output_type": "execute_result"
    }
   ],
   "source": [
    "yps2 = ps[['price']]\n",
    "yps2.head()"
   ]
  },
  {
   "cell_type": "code",
   "execution_count": null,
   "metadata": {},
   "outputs": [],
   "source": []
  },
  {
   "cell_type": "code",
   "execution_count": 105,
   "metadata": {},
   "outputs": [],
   "source": [
    "convert_catg(Xps2)"
   ]
  },
  {
   "cell_type": "code",
   "execution_count": 106,
   "metadata": {},
   "outputs": [
    {
     "data": {
      "text/html": [
       "<div>\n",
       "<style scoped>\n",
       "    .dataframe tbody tr th:only-of-type {\n",
       "        vertical-align: middle;\n",
       "    }\n",
       "\n",
       "    .dataframe tbody tr th {\n",
       "        vertical-align: top;\n",
       "    }\n",
       "\n",
       "    .dataframe thead th {\n",
       "        text-align: right;\n",
       "    }\n",
       "</style>\n",
       "<table border=\"1\" class=\"dataframe\">\n",
       "  <thead>\n",
       "    <tr style=\"text-align: right;\">\n",
       "      <th></th>\n",
       "      <th>carat</th>\n",
       "      <th>cut</th>\n",
       "      <th>color</th>\n",
       "      <th>clarity</th>\n",
       "      <th>depth</th>\n",
       "      <th>table</th>\n",
       "    </tr>\n",
       "  </thead>\n",
       "  <tbody>\n",
       "    <tr>\n",
       "      <td>0</td>\n",
       "      <td>0.23</td>\n",
       "      <td>0</td>\n",
       "      <td>0</td>\n",
       "      <td>0</td>\n",
       "      <td>61.5</td>\n",
       "      <td>55</td>\n",
       "    </tr>\n",
       "    <tr>\n",
       "      <td>1</td>\n",
       "      <td>0.23</td>\n",
       "      <td>0</td>\n",
       "      <td>0</td>\n",
       "      <td>5</td>\n",
       "      <td>61.8</td>\n",
       "      <td>56</td>\n",
       "    </tr>\n",
       "    <tr>\n",
       "      <td>2</td>\n",
       "      <td>0.23</td>\n",
       "      <td>0</td>\n",
       "      <td>0</td>\n",
       "      <td>5</td>\n",
       "      <td>61.4</td>\n",
       "      <td>55</td>\n",
       "    </tr>\n",
       "    <tr>\n",
       "      <td>3</td>\n",
       "      <td>0.23</td>\n",
       "      <td>0</td>\n",
       "      <td>0</td>\n",
       "      <td>5</td>\n",
       "      <td>61.5</td>\n",
       "      <td>56</td>\n",
       "    </tr>\n",
       "    <tr>\n",
       "      <td>4</td>\n",
       "      <td>0.23</td>\n",
       "      <td>0</td>\n",
       "      <td>0</td>\n",
       "      <td>6</td>\n",
       "      <td>61.9</td>\n",
       "      <td>55</td>\n",
       "    </tr>\n",
       "  </tbody>\n",
       "</table>\n",
       "</div>"
      ],
      "text/plain": [
       "   carat  cut  color  clarity  depth  table\n",
       "0   0.23    0      0        0   61.5     55\n",
       "1   0.23    0      0        5   61.8     56\n",
       "2   0.23    0      0        5   61.4     55\n",
       "3   0.23    0      0        5   61.5     56\n",
       "4   0.23    0      0        6   61.9     55"
      ]
     },
     "execution_count": 106,
     "metadata": {},
     "output_type": "execute_result"
    }
   ],
   "source": [
    "Xps2.head()"
   ]
  },
  {
   "cell_type": "code",
   "execution_count": 107,
   "metadata": {},
   "outputs": [
    {
     "data": {
      "text/plain": [
       "array([[8.35518307],\n",
       "       [8.37085915],\n",
       "       [8.37085915]])"
      ]
     },
     "execution_count": 107,
     "metadata": {},
     "output_type": "execute_result"
    }
   ],
   "source": [
    "y_pred=reg_all.predict(Xps2)\n",
    "y_pred_exp = np.expm1(y_pred)\n",
    "y_pred_exp[0:3]\n",
    "y_pred[0:3]"
   ]
  },
  {
   "cell_type": "code",
   "execution_count": 108,
   "metadata": {},
   "outputs": [
    {
     "data": {
      "text/plain": [
       "numpy.ndarray"
      ]
     },
     "execution_count": 108,
     "metadata": {},
     "output_type": "execute_result"
    }
   ],
   "source": [
    "type(y_pred_exp)"
   ]
  },
  {
   "cell_type": "code",
   "execution_count": 109,
   "metadata": {},
   "outputs": [
    {
     "data": {
      "text/plain": [
       "<matplotlib.axes._subplots.AxesSubplot at 0x18da4245048>"
      ]
     },
     "execution_count": 109,
     "metadata": {},
     "output_type": "execute_result"
    },
    {
     "data": {
      "image/png": "[encoded data removed]",
      "text/plain": [
       "<Figure size 432x288 with 1 Axes>"
      ]
     },
     "metadata": {
      "needs_background": "light"
     },
     "output_type": "display_data"
    }
   ],
   "source": [
    "sns.distplot((yps2-y_pred),bins=50)"
   ]
  },
  {
   "cell_type": "code",
   "execution_count": 110,
   "metadata": {},
   "outputs": [
    {
     "data": {
      "text/plain": [
       "<matplotlib.collections.PathCollection at 0x18da27b3a90>"
      ]
     },
     "execution_count": 110,
     "metadata": {},
     "output_type": "execute_result"
    },
    {
     "data": {
      "image/png": "[encoded data removed]",
      "text/plain": [
       "<Figure size 432x288 with 1 Axes>"
      ]
     },
     "metadata": {
      "needs_background": "light"
     },
     "output_type": "display_data"
    }
   ],
   "source": [
    "plt.scatter(yps2,y_pred_exp)"
   ]
  },
  {
   "cell_type": "markdown",
   "metadata": {},
   "source": [
    "### Polynomial regression"
   ]
  },
  {
   "cell_type": "code",
   "execution_count": 112,
   "metadata": {},
   "outputs": [],
   "source": [
    "from sklearn.preprocessing import PolynomialFeatures\n",
    "poly = PolynomialFeatures(degree = 2)\n",
    "X_train_poly = poly.fit_transform(X_train)\n",
    "X_test_poly = poly.fit_transform(X_test)\n",
    "\n",
    "reg_all = LinearRegression()\n",
    "reg_all.fit(X_train_poly,y_train)\n",
    "y_pred=reg_all.predict(X_test_poly)"
   ]
  },
  {
   "cell_type": "code",
   "execution_count": 113,
   "metadata": {},
   "outputs": [
    {
     "name": "stdout",
     "output_type": "stream",
     "text": [
      "MAE: 0.1429637364245789\n",
      "MSE: 0.03494662872240241\n",
      "RMSE: 0.18694017417987607\n"
     ]
    }
   ],
   "source": [
    "print('MAE:', metrics.mean_absolute_error(y_test, y_pred))\n",
    "print('MSE:', metrics.mean_squared_error(y_test, y_pred))\n",
    "print('RMSE:', np.sqrt(metrics.mean_squared_error(y_test, y_pred)))"
   ]
  },
  {
   "cell_type": "markdown",
   "metadata": {},
   "source": [
    "### SVM support vector machines\n"
   ]
  },
  {
   "cell_type": "code",
   "execution_count": 114,
   "metadata": {},
   "outputs": [
    {
     "name": "stderr",
     "output_type": "stream",
     "text": [
      "c:\\program files\\python37\\lib\\site-packages\\sklearn\\utils\\validation.py:724: DataConversionWarning: A column-vector y was passed when a 1d array was expected. Please change the shape of y to (n_samples, ), for example using ravel().\n",
      "  y = column_or_1d(y, warn=True)\n",
      "c:\\program files\\python37\\lib\\site-packages\\sklearn\\svm\\base.py:193: FutureWarning: The default value of gamma will change from 'auto' to 'scale' in version 0.22 to account better for unscaled features. Set gamma explicitly to 'auto' or 'scale' to avoid this warning.\n",
      "  \"avoid this warning.\", FutureWarning)\n"
     ]
    }
   ],
   "source": [
    "from sklearn.svm import SVR\n",
    "\n",
    "regressor = SVR(kernel='rbf')\n",
    "regressor.fit(X_train,y_train)\n",
    "y_pred = regressor.predict(X_test)\n"
   ]
  },
  {
   "cell_type": "code",
   "execution_count": 115,
   "metadata": {},
   "outputs": [
    {
     "name": "stdout",
     "output_type": "stream",
     "text": [
      "MAE: 0.08947356796602714\n",
      "MSE: 0.013098320106516181\n",
      "RMSE: 0.11444789253855303\n"
     ]
    }
   ],
   "source": [
    "print('MAE:', metrics.mean_absolute_error(y_test, y_pred))\n",
    "print('MSE:', metrics.mean_squared_error(y_test, y_pred))\n",
    "print('RMSE:', np.sqrt(metrics.mean_squared_error(y_test, y_pred)))"
   ]
  },
  {
   "cell_type": "markdown",
   "metadata": {},
   "source": [
    "### Random forest"
   ]
  },
  {
   "cell_type": "code",
   "execution_count": null,
   "metadata": {},
   "outputs": [],
   "source": [
    "'''from sklearn.ensemble import RandomForestClassifier\n",
    "regressor = RandomForestClassifier(n_estimators = 6)\n",
    "regressor.fit(X_train,Y_train)\n",
    "y_pred = rf.predict(X_test)\n",
    "'''"
   ]
  },
  {
   "cell_type": "markdown",
   "metadata": {},
   "source": [
    "### Neural network"
   ]
  },
  {
   "cell_type": "code",
   "execution_count": 116,
   "metadata": {},
   "outputs": [
    {
     "name": "stderr",
     "output_type": "stream",
     "text": [
      "Using TensorFlow backend.\n"
     ]
    }
   ],
   "source": [
    "from keras.models import Sequential, model_from_json\n",
    "from keras.layers import Dense\n",
    "from keras.optimizers import RMSprop\n",
    "\n",
    "from keras.wrappers.scikit_learn import KerasRegressor\n",
    "from sklearn.model_selection import cross_val_score\n",
    "from sklearn.model_selection import KFold\n",
    "from sklearn.preprocessing import StandardScaler\n",
    "from sklearn.pipeline import Pipeline\n"
   ]
  },
  {
   "cell_type": "markdown",
   "metadata": {},
   "source": [
    "#### https://keras.io/scikit-learn-api/\n",
    "#### https://www.programcreek.com/python/example/88638/keras.wrappers.scikit_learn.KerasRegressor\n",
    "1. construct, compile and return a Keras model, which will then be used to fit/predict.\n",
    "2. Predict diamond prices\n",
    "3. ypred vs. ytest now\n"
   ]
  },
  {
   "cell_type": "code",
   "execution_count": 119,
   "metadata": {},
   "outputs": [
    {
     "data": {
      "text/plain": [
       "\"\\nmodel = Sequential()\\nmodel.add(Dense(256, activation='relu', input_shape=(8,)))\\nmodel.add(Dense(256, activation='relu'))\\nmodel.add(Dense(256, activation='relu'))\\nmodel.add(Dense(256, activation='relu'))\\nmodel.add(Dense(1, activation='relu'))\\nmodel.summary()\\nmodel.compile(loss='mean_absolute_error', optimizer='adam', metrics=['mean_absolute_error','mean_squared_error'])history = model.fit(X_train,Y_train,batch_size=64,epochs=100,verbose=2)\\ntest=model.evaluate(X_test, Y_test, verbose=1)\\n\""
      ]
     },
     "execution_count": 119,
     "metadata": {},
     "output_type": "execute_result"
    }
   ],
   "source": [
    "\n",
    "# define base model\n",
    "def baseline_model():\n",
    "    # create model\n",
    "    model = Sequential()\n",
    "    # add 1wsst layer\n",
    "    model.add(Dense(output_dim=3, input_dim=6, kernel_initializer='normal', activation='relu'))\n",
    "    # add hidden layer\n",
    "    model.add(Dense(output_dim=3, kernel_initializer='normal', activation='relu'))\n",
    "    # add output layer\n",
    "    model.add(Dense(1, kernel_initializer='normal'))\n",
    "    # Compile model\n",
    "    model.compile(loss='mean_squared_error', optimizer='adam')\n",
    "    return model\n",
    "\n",
    "'''\n",
    "model = Sequential()\n",
    "model.add(Dense(256, activation='relu', input_shape=(8,)))\n",
    "model.add(Dense(256, activation='relu'))\n",
    "model.add(Dense(256, activation='relu'))\n",
    "model.add(Dense(256, activation='relu'))\n",
    "model.add(Dense(1, activation='relu'))\n",
    "model.summary()\n",
    "model.compile(loss='mean_absolute_error', optimizer='adam', metrics=['mean_absolute_error','mean_squared_error'])history = model.fit(X_train,Y_train,batch_size=64,epochs=100,verbose=2)\n",
    "test=model.evaluate(X_test, Y_test, verbose=1)\n",
    "'''\n"
   ]
  },
  {
   "cell_type": "code",
   "execution_count": 120,
   "metadata": {},
   "outputs": [
    {
     "name": "stderr",
     "output_type": "stream",
     "text": [
      "c:\\program files\\python37\\lib\\site-packages\\ipykernel_launcher.py:6: UserWarning: Update your `Dense` call to the Keras 2 API: `Dense(input_dim=6, kernel_initializer=\"normal\", activation=\"relu\", units=3)`\n",
      "  \n",
      "c:\\program files\\python37\\lib\\site-packages\\ipykernel_launcher.py:8: UserWarning: Update your `Dense` call to the Keras 2 API: `Dense(kernel_initializer=\"normal\", activation=\"relu\", units=3)`\n",
      "  \n"
     ]
    },
    {
     "name": "stdout",
     "output_type": "stream",
     "text": [
      "Epoch 1/20\n",
      "33937/33937 [==============================] - 5s 145us/step - loss: 2.0696\n",
      "Epoch 2/20\n",
      "33937/33937 [==============================] - 5s 143us/step - loss: 0.0509\n",
      "Epoch 3/20\n",
      "33937/33937 [==============================] - 5s 138us/step - loss: 0.0507\n",
      "Epoch 4/20\n",
      "33937/33937 [==============================] - 5s 139us/step - loss: 0.0507\n",
      "Epoch 5/20\n",
      "33937/33937 [==============================] - 5s 143us/step - loss: 0.0506\n",
      "Epoch 6/20\n",
      "33937/33937 [==============================] - 5s 138us/step - loss: 0.0504\n",
      "Epoch 7/20\n",
      "33937/33937 [==============================] - 5s 134us/step - loss: 0.0506\n",
      "Epoch 8/20\n",
      "33937/33937 [==============================] - 5s 142us/step - loss: 0.0504\n",
      "Epoch 9/20\n",
      "33937/33937 [==============================] - 5s 136us/step - loss: 0.0503\n",
      "Epoch 10/20\n",
      "33937/33937 [==============================] - 5s 139us/step - loss: 0.0505\n",
      "Epoch 11/20\n",
      "33937/33937 [==============================] - 5s 136us/step - loss: 0.0502\n",
      "Epoch 12/20\n",
      "33937/33937 [==============================] - 5s 141us/step - loss: 0.0504\n",
      "Epoch 13/20\n",
      "33937/33937 [==============================] - 5s 155us/step - loss: 0.0501\n",
      "Epoch 14/20\n",
      "33937/33937 [==============================] - 5s 158us/step - loss: 0.0502\n",
      "Epoch 15/20\n",
      "33937/33937 [==============================] - 5s 161us/step - loss: 0.0502\n",
      "Epoch 16/20\n",
      "33937/33937 [==============================] - 5s 143us/step - loss: 0.0499\n",
      "Epoch 17/20\n",
      "33937/33937 [==============================] - 5s 145us/step - loss: 0.0499\n",
      "Epoch 18/20\n",
      "33937/33937 [==============================] - 5s 151us/step - loss: 0.0499\n",
      "Epoch 19/20\n",
      "33937/33937 [==============================] - 5s 155us/step - loss: 0.0498\n",
      "Epoch 20/20\n",
      "33937/33937 [==============================] - 5s 149us/step - loss: 0.0499\n",
      "3771/3771 [==============================] - 0s 56us/step\n",
      "Epoch 1/20\n",
      "33937/33937 [==============================] - 5s 151us/step - loss: 2.4914 0\n",
      "Epoch 2/20\n",
      "33937/33937 [==============================] - 5s 144us/step - loss: 0.0505\n",
      "Epoch 3/20\n",
      "33937/33937 [==============================] - 6s 184us/step - loss: 0.0503\n",
      "Epoch 4/20\n",
      "33937/33937 [==============================] - 5s 153us/step - loss: 0.0505\n",
      "Epoch 5/20\n",
      "33937/33937 [==============================] - 5s 153us/step - loss: 0.0504\n",
      "Epoch 6/20\n",
      "33937/33937 [==============================] - 5s 156us/step - loss: 0.0504\n",
      "Epoch 7/20\n",
      "33937/33937 [==============================] - 6s 175us/step - loss: 0.0502\n",
      "Epoch 8/20\n",
      "33937/33937 [==============================] - 5s 152us/step - loss: 0.0500\n",
      "Epoch 9/20\n",
      "33937/33937 [==============================] - 5s 139us/step - loss: 0.0500\n",
      "Epoch 10/20\n",
      "33937/33937 [==============================] - 5s 145us/step - loss: 0.0500\n",
      "Epoch 11/20\n",
      "33937/33937 [==============================] - 5s 144us/step - loss: 0.0500\n",
      "Epoch 12/20\n",
      "33937/33937 [==============================] - 5s 159us/step - loss: 0.0499\n",
      "Epoch 13/20\n",
      "33937/33937 [==============================] - 5s 154us/step - loss: 0.0499\n",
      "Epoch 14/20\n",
      "33937/33937 [==============================] - 6s 163us/step - loss: 0.0498\n",
      "Epoch 15/20\n",
      "33937/33937 [==============================] - 5s 159us/step - loss: 0.0499\n",
      "Epoch 16/20\n",
      "33937/33937 [==============================] - 5s 147us/step - loss: 0.0499\n",
      "Epoch 17/20\n",
      "33937/33937 [==============================] - 5s 148us/step - loss: 0.0500\n",
      "Epoch 18/20\n",
      "33937/33937 [==============================] - 5s 141us/step - loss: 0.0497\n",
      "Epoch 19/20\n",
      "33937/33937 [==============================] - 5s 142us/step - loss: 0.0497\n",
      "Epoch 20/20\n",
      "33937/33937 [==============================] - 5s 151us/step - loss: 0.0496\n",
      "3771/3771 [==============================] - 0s 66us/step\n",
      "Epoch 1/20\n",
      "33937/33937 [==============================] - 6s 166us/step - loss: 27.6600\n",
      "Epoch 2/20\n",
      "33937/33937 [==============================] - 5s 147us/step - loss: 1.7886\n",
      "Epoch 3/20\n",
      "33937/33937 [==============================] - 5s 146us/step - loss: 1.0368\n",
      "Epoch 4/20\n",
      "33937/33937 [==============================] - 5s 161us/step - loss: 1.0368\n",
      "Epoch 5/20\n",
      "33937/33937 [==============================] - 6s 167us/step - loss: 1.0369\n",
      "Epoch 6/20\n",
      "33937/33937 [==============================] - 6s 178us/step - loss: 1.0368\n",
      "Epoch 7/20\n",
      "33937/33937 [==============================] - 5s 151us/step - loss: 1.0368\n",
      "Epoch 8/20\n",
      "33937/33937 [==============================] - 6s 162us/step - loss: 1.0368\n",
      "Epoch 9/20\n",
      "33937/33937 [==============================] - 5s 156us/step - loss: 1.0368\n",
      "Epoch 10/20\n",
      "33937/33937 [==============================] - 6s 182us/step - loss: 1.0368\n",
      "Epoch 11/20\n",
      "33937/33937 [==============================] - 6s 167us/step - loss: 1.0369\n",
      "Epoch 12/20\n",
      "33937/33937 [==============================] - 6s 170us/step - loss: 1.0368\n",
      "Epoch 13/20\n",
      "33937/33937 [==============================] - 6s 181us/step - loss: 1.0368\n",
      "Epoch 14/20\n",
      "33937/33937 [==============================] - 6s 169us/step - loss: 1.0367\n",
      "Epoch 15/20\n",
      "33937/33937 [==============================] - 6s 179us/step - loss: 1.0368\n",
      "Epoch 16/20\n",
      "33937/33937 [==============================] - 5s 157us/step - loss: 1.0368\n",
      "Epoch 17/20\n",
      "33937/33937 [==============================] - 5s 154us/step - loss: 1.0368\n",
      "Epoch 18/20\n",
      "33937/33937 [==============================] - 5s 157us/step - loss: 1.0368\n",
      "Epoch 19/20\n",
      "33937/33937 [==============================] - 5s 152us/step - loss: 1.0369\n",
      "Epoch 20/20\n",
      "33937/33937 [==============================] - 5s 158us/step - loss: 1.0368\n",
      "3771/3771 [==============================] - 0s 63us/step\n",
      "Epoch 1/20\n",
      "33937/33937 [==============================] - 6s 186us/step - loss: 2.3680\n",
      "Epoch 2/20\n",
      "33937/33937 [==============================] - 5s 158us/step - loss: 0.0504\n",
      "Epoch 3/20\n",
      "33937/33937 [==============================] - 6s 176us/step - loss: 0.0502\n",
      "Epoch 4/20\n",
      "33937/33937 [==============================] - 5s 161us/step - loss: 0.0501\n",
      "Epoch 5/20\n",
      "33937/33937 [==============================] - 7s 197us/step - loss: 0.0502\n",
      "Epoch 6/20\n",
      "33937/33937 [==============================] - 6s 180us/step - loss: 0.0500\n",
      "Epoch 7/20\n",
      "33937/33937 [==============================] - 6s 187us/step - loss: 0.0501\n",
      "Epoch 8/20\n",
      "33937/33937 [==============================] - 6s 175us/step - loss: 0.0498\n",
      "Epoch 9/20\n",
      "33937/33937 [==============================] - 5s 148us/step - loss: 0.0500\n",
      "Epoch 10/20\n",
      "33937/33937 [==============================] - 6s 180us/step - loss: 0.0499\n",
      "Epoch 11/20\n",
      "33937/33937 [==============================] - 5s 161us/step - loss: 0.0496\n",
      "Epoch 12/20\n",
      "33937/33937 [==============================] - 5s 153us/step - loss: 0.0498\n",
      "Epoch 13/20\n",
      "33937/33937 [==============================] - 5s 147us/step - loss: 0.0499\n",
      "Epoch 14/20\n",
      "33937/33937 [==============================] - 5s 146us/step - loss: 0.0494\n",
      "Epoch 15/20\n",
      "33937/33937 [==============================] - 5s 156us/step - loss: 0.0498\n",
      "Epoch 16/20\n",
      "33937/33937 [==============================] - 5s 159us/step - loss: 0.0496\n",
      "Epoch 17/20\n",
      "33937/33937 [==============================] - 5s 160us/step - loss: 0.0495\n",
      "Epoch 18/20\n",
      "33937/33937 [==============================] - 5s 152us/step - loss: 0.0495\n",
      "Epoch 19/20\n",
      "33937/33937 [==============================] - 5s 158us/step - loss: 0.0495\n",
      "Epoch 20/20\n",
      "33937/33937 [==============================] - 5s 153us/step - loss: 0.0494\n",
      "3771/3771 [==============================] - 0s 60us/step\n",
      "Epoch 1/20\n",
      "33937/33937 [==============================] - 5s 153us/step - loss: 1.8227\n",
      "Epoch 2/20\n",
      "33937/33937 [==============================] - 5s 154us/step - loss: 0.0514\n",
      "Epoch 3/20\n",
      "33937/33937 [==============================] - 5s 152us/step - loss: 0.0512\n",
      "Epoch 4/20\n",
      "33937/33937 [==============================] - 5s 158us/step - loss: 0.0511\n",
      "Epoch 5/20\n",
      "33937/33937 [==============================] - 6s 164us/step - loss: 0.0509\n",
      "Epoch 6/20\n",
      "33937/33937 [==============================] - 5s 162us/step - loss: 0.0510\n",
      "Epoch 7/20\n",
      "33937/33937 [==============================] - 7s 198us/step - loss: 0.0507\n",
      "Epoch 8/20\n",
      "33937/33937 [==============================] - 7s 198us/step - loss: 0.0508\n",
      "Epoch 9/20\n",
      "33937/33937 [==============================] - 5s 158us/step - loss: 0.0505\n",
      "Epoch 10/20\n",
      "33937/33937 [==============================] - 6s 164us/step - loss: 0.0506\n",
      "Epoch 11/20\n"
     ]
    },
    {
     "name": "stdout",
     "output_type": "stream",
     "text": [
      "33937/33937 [==============================] - 5s 153us/step - loss: 0.0505 0s - loss: 0.05\n",
      "Epoch 12/20\n",
      "33937/33937 [==============================] - 6s 163us/step - loss: 0.0505\n",
      "Epoch 13/20\n",
      "33937/33937 [==============================] - 6s 163us/step - loss: 0.0502\n",
      "Epoch 14/20\n",
      "33937/33937 [==============================] - 5s 149us/step - loss: 0.0502\n",
      "Epoch 15/20\n",
      "33937/33937 [==============================] - 5s 146us/step - loss: 0.0505\n",
      "Epoch 16/20\n",
      "33937/33937 [==============================] - 5s 140us/step - loss: 0.0501\n",
      "Epoch 17/20\n",
      "33937/33937 [==============================] - 5s 141us/step - loss: 0.0503\n",
      "Epoch 18/20\n",
      "33937/33937 [==============================] - 5s 147us/step - loss: 0.0503\n",
      "Epoch 19/20\n",
      "33937/33937 [==============================] - 5s 145us/step - loss: 0.0498\n",
      "Epoch 20/20\n",
      "33937/33937 [==============================] - 5s 147us/step - loss: 0.0501\n",
      "3771/3771 [==============================] - 0s 64us/step\n",
      "Epoch 1/20\n",
      "33937/33937 [==============================] - 5s 150us/step - loss: 27.6114\n",
      "Epoch 2/20\n",
      "33937/33937 [==============================] - 5s 142us/step - loss: 1.7914\n",
      "Epoch 3/20\n",
      "33937/33937 [==============================] - 5s 146us/step - loss: 1.0356\n",
      "Epoch 4/20\n",
      "33937/33937 [==============================] - 5s 144us/step - loss: 1.0356\n",
      "Epoch 5/20\n",
      "33937/33937 [==============================] - 6s 163us/step - loss: 1.0356\n",
      "Epoch 6/20\n",
      "33937/33937 [==============================] - 5s 144us/step - loss: 1.0357\n",
      "Epoch 7/20\n",
      "33937/33937 [==============================] - 5s 151us/step - loss: 1.0356\n",
      "Epoch 8/20\n",
      "33937/33937 [==============================] - 5s 144us/step - loss: 1.0355\n",
      "Epoch 9/20\n",
      "33937/33937 [==============================] - 5s 143us/step - loss: 1.0357\n",
      "Epoch 10/20\n",
      "33937/33937 [==============================] - 5s 149us/step - loss: 1.0356\n",
      "Epoch 11/20\n",
      "33937/33937 [==============================] - 5s 145us/step - loss: 1.0357\n",
      "Epoch 12/20\n",
      "33937/33937 [==============================] - 5s 145us/step - loss: 1.0356\n",
      "Epoch 13/20\n",
      "33937/33937 [==============================] - 5s 144us/step - loss: 1.0357\n",
      "Epoch 14/20\n",
      "33937/33937 [==============================] - 5s 142us/step - loss: 1.0357\n",
      "Epoch 15/20\n",
      "33937/33937 [==============================] - 5s 143us/step - loss: 1.0357\n",
      "Epoch 16/20\n",
      "33937/33937 [==============================] - 5s 144us/step - loss: 1.0356\n",
      "Epoch 17/20\n",
      "33937/33937 [==============================] - 5s 150us/step - loss: 1.0356\n",
      "Epoch 18/20\n",
      "33937/33937 [==============================] - 5s 147us/step - loss: 1.0356\n",
      "Epoch 19/20\n",
      "33937/33937 [==============================] - 5s 143us/step - loss: 1.0357\n",
      "Epoch 20/20\n",
      "33937/33937 [==============================] - 5s 142us/step - loss: 1.0356\n",
      "3771/3771 [==============================] - 0s 65us/step\n",
      "Epoch 1/20\n",
      "33937/33937 [==============================] - 5s 143us/step - loss: 2.1144\n",
      "Epoch 2/20\n",
      "33937/33937 [==============================] - 5s 145us/step - loss: 0.0510\n",
      "Epoch 3/20\n",
      "33937/33937 [==============================] - 5s 143us/step - loss: 0.0507\n",
      "Epoch 4/20\n",
      "33937/33937 [==============================] - 5s 142us/step - loss: 0.0507\n",
      "Epoch 5/20\n",
      "33937/33937 [==============================] - 5s 144us/step - loss: 0.0507\n",
      "Epoch 6/20\n",
      "33937/33937 [==============================] - 5s 144us/step - loss: 0.0506\n",
      "Epoch 7/20\n",
      "33937/33937 [==============================] - 5s 142us/step - loss: 0.0502\n",
      "Epoch 8/20\n",
      "33937/33937 [==============================] - 5s 142us/step - loss: 0.0505\n",
      "Epoch 9/20\n",
      "33937/33937 [==============================] - 5s 144us/step - loss: 0.0504\n",
      "Epoch 10/20\n",
      "33937/33937 [==============================] - 5s 141us/step - loss: 0.0503\n",
      "Epoch 11/20\n",
      "33937/33937 [==============================] - 5s 143us/step - loss: 0.0499\n",
      "Epoch 12/20\n",
      "33937/33937 [==============================] - 5s 144us/step - loss: 0.0502\n",
      "Epoch 13/20\n",
      "33937/33937 [==============================] - 5s 142us/step - loss: 0.0503\n",
      "Epoch 14/20\n",
      "33937/33937 [==============================] - 5s 147us/step - loss: 0.0501\n",
      "Epoch 15/20\n",
      "33937/33937 [==============================] - 5s 150us/step - loss: 0.0502\n",
      "Epoch 16/20\n",
      "33937/33937 [==============================] - 5s 145us/step - loss: 0.0498\n",
      "Epoch 17/20\n",
      "33937/33937 [==============================] - 5s 143us/step - loss: 0.0499\n",
      "Epoch 18/20\n",
      "33937/33937 [==============================] - 5s 141us/step - loss: 0.0498\n",
      "Epoch 19/20\n",
      "33937/33937 [==============================] - 5s 144us/step - loss: 0.0496\n",
      "Epoch 20/20\n",
      "33937/33937 [==============================] - 5s 142us/step - loss: 0.0498\n",
      "3771/3771 [==============================] - 0s 59us/step\n",
      "Epoch 1/20\n",
      "33937/33937 [==============================] - 5s 149us/step - loss: 2.4831\n",
      "Epoch 2/20\n",
      "33937/33937 [==============================] - 5s 144us/step - loss: 0.0506\n",
      "Epoch 3/20\n",
      "33937/33937 [==============================] - 5s 151us/step - loss: 0.0507\n",
      "Epoch 4/20\n",
      "33937/33937 [==============================] - 5s 149us/step - loss: 0.0507\n",
      "Epoch 5/20\n",
      "33937/33937 [==============================] - 5s 144us/step - loss: 0.0506\n",
      "Epoch 6/20\n",
      "33937/33937 [==============================] - 5s 143us/step - loss: 0.0505\n",
      "Epoch 7/20\n",
      "33937/33937 [==============================] - 5s 149us/step - loss: 0.0504\n",
      "Epoch 8/20\n",
      "33937/33937 [==============================] - 5s 144us/step - loss: 0.0504\n",
      "Epoch 9/20\n",
      "33937/33937 [==============================] - 5s 146us/step - loss: 0.0505\n",
      "Epoch 10/20\n",
      "33937/33937 [==============================] - 5s 145us/step - loss: 0.0504\n",
      "Epoch 11/20\n",
      "33937/33937 [==============================] - 5s 143us/step - loss: 0.0504\n",
      "Epoch 12/20\n",
      "33937/33937 [==============================] - 5s 143us/step - loss: 0.0502\n",
      "Epoch 13/20\n",
      "33937/33937 [==============================] - 5s 144us/step - loss: 0.0501\n",
      "Epoch 14/20\n",
      "33937/33937 [==============================] - 5s 143us/step - loss: 0.0499\n",
      "Epoch 15/20\n",
      "33937/33937 [==============================] - 5s 144us/step - loss: 0.0501\n",
      "Epoch 16/20\n",
      "33937/33937 [==============================] - 5s 143us/step - loss: 0.0500\n",
      "Epoch 17/20\n",
      "33937/33937 [==============================] - 5s 143us/step - loss: 0.0498\n",
      "Epoch 18/20\n",
      "33937/33937 [==============================] - 5s 143us/step - loss: 0.0499\n",
      "Epoch 19/20\n",
      "33937/33937 [==============================] - 5s 147us/step - loss: 0.0500\n",
      "Epoch 20/20\n",
      "33937/33937 [==============================] - 5s 148us/step - loss: 0.0498\n",
      "3771/3771 [==============================] - 0s 58us/step\n",
      "Epoch 1/20\n",
      "33938/33938 [==============================] - 5s 146us/step - loss: 2.6710\n",
      "Epoch 2/20\n",
      "33938/33938 [==============================] - 5s 142us/step - loss: 0.0507\n",
      "Epoch 3/20\n",
      "33938/33938 [==============================] - 5s 149us/step - loss: 0.0504\n",
      "Epoch 4/20\n",
      "33938/33938 [==============================] - 5s 150us/step - loss: 0.0506\n",
      "Epoch 5/20\n",
      "33938/33938 [==============================] - 6s 173us/step - loss: 0.0504\n",
      "Epoch 6/20\n",
      "33938/33938 [==============================] - 5s 149us/step - loss: 0.0503\n",
      "Epoch 7/20\n",
      "33938/33938 [==============================] - 5s 147us/step - loss: 0.0502\n",
      "Epoch 8/20\n",
      "33938/33938 [==============================] - 5s 149us/step - loss: 0.0502\n",
      "Epoch 9/20\n",
      "33938/33938 [==============================] - 5s 149us/step - loss: 0.0503\n",
      "Epoch 10/20\n",
      "33938/33938 [==============================] - 5s 145us/step - loss: 0.0499\n",
      "Epoch 11/20\n",
      "33938/33938 [==============================] - 5s 149us/step - loss: 0.0501\n",
      "Epoch 12/20\n",
      "33938/33938 [==============================] - 5s 145us/step - loss: 0.0499\n",
      "Epoch 13/20\n",
      "33938/33938 [==============================] - 5s 144us/step - loss: 0.0471\n",
      "Epoch 14/20\n",
      "33938/33938 [==============================] - 5s 145us/step - loss: 0.0450\n",
      "Epoch 15/20\n",
      "33938/33938 [==============================] - 5s 145us/step - loss: 0.0442\n",
      "Epoch 16/20\n",
      "33938/33938 [==============================] - 5s 145us/step - loss: 0.0438\n",
      "Epoch 17/20\n",
      "33938/33938 [==============================] - 5s 145us/step - loss: 0.0434\n",
      "Epoch 18/20\n",
      "33938/33938 [==============================] - 6s 165us/step - loss: 0.0433\n",
      "Epoch 19/20\n",
      "33938/33938 [==============================] - 5s 152us/step - loss: 0.0430\n",
      "Epoch 20/20\n",
      "33938/33938 [==============================] - 5s 147us/step - loss: 0.0427\n",
      "3770/3770 [==============================] - 0s 65us/step\n",
      "Epoch 1/20\n"
     ]
    },
    {
     "name": "stdout",
     "output_type": "stream",
     "text": [
      "33938/33938 [==============================] - 5s 145us/step - loss: 27.6640\n",
      "Epoch 2/20\n",
      "33938/33938 [==============================] - 5s 152us/step - loss: 1.7832\n",
      "Epoch 3/20\n",
      "33938/33938 [==============================] - 5s 152us/step - loss: 1.0338\n",
      "Epoch 4/20\n",
      "33938/33938 [==============================] - 5s 148us/step - loss: 1.0337\n",
      "Epoch 5/20\n",
      "33938/33938 [==============================] - 5s 144us/step - loss: 1.0336\n",
      "Epoch 6/20\n",
      "33938/33938 [==============================] - 5s 143us/step - loss: 1.0339\n",
      "Epoch 7/20\n",
      "33938/33938 [==============================] - 5s 144us/step - loss: 1.0338\n",
      "Epoch 8/20\n",
      "33938/33938 [==============================] - 5s 142us/step - loss: 1.0337\n",
      "Epoch 9/20\n",
      "33938/33938 [==============================] - 5s 144us/step - loss: 1.0338\n",
      "Epoch 10/20\n",
      "33938/33938 [==============================] - 5s 147us/step - loss: 1.0337\n",
      "Epoch 11/20\n",
      "33938/33938 [==============================] - 5s 145us/step - loss: 1.0337\n",
      "Epoch 12/20\n",
      "33938/33938 [==============================] - 5s 144us/step - loss: 1.0337\n",
      "Epoch 13/20\n",
      "33938/33938 [==============================] - 5s 145us/step - loss: 1.0338\n",
      "Epoch 14/20\n",
      "33938/33938 [==============================] - 5s 150us/step - loss: 1.0338\n",
      "Epoch 15/20\n",
      "33938/33938 [==============================] - 5s 151us/step - loss: 1.0335\n",
      "Epoch 16/20\n",
      "33938/33938 [==============================] - 5s 145us/step - loss: 1.0338\n",
      "Epoch 17/20\n",
      "33938/33938 [==============================] - 5s 143us/step - loss: 1.0337\n",
      "Epoch 18/20\n",
      "33938/33938 [==============================] - 5s 143us/step - loss: 1.0337\n",
      "Epoch 19/20\n",
      "33938/33938 [==============================] - 5s 150us/step - loss: 1.0338\n",
      "Epoch 20/20\n",
      "33938/33938 [==============================] - 5s 155us/step - loss: 1.0337\n",
      "3770/3770 [==============================] - 0s 65us/step\n",
      "Results: -0.35 (0.46) MSE\n"
     ]
    }
   ],
   "source": [
    "estimator = KerasRegressor(build_fn=baseline_model, epochs=20, batch_size=5)\n",
    "\n",
    "kfold = KFold(n_splits=10)\n",
    "results = cross_val_score(estimator, X_train, y_train, cv=kfold)\n",
    "print(\"Results: %.2f (%.2f) MSE\" % (results.mean(), results.std()))"
   ]
  },
  {
   "cell_type": "code",
   "execution_count": null,
   "metadata": {},
   "outputs": [],
   "source": []
  },
  {
   "cell_type": "code",
   "execution_count": 121,
   "metadata": {},
   "outputs": [
    {
     "name": "stderr",
     "output_type": "stream",
     "text": [
      "c:\\program files\\python37\\lib\\site-packages\\ipykernel_launcher.py:6: UserWarning: Update your `Dense` call to the Keras 2 API: `Dense(input_dim=6, kernel_initializer=\"normal\", activation=\"relu\", units=3)`\n",
      "  \n",
      "c:\\program files\\python37\\lib\\site-packages\\ipykernel_launcher.py:8: UserWarning: Update your `Dense` call to the Keras 2 API: `Dense(kernel_initializer=\"normal\", activation=\"relu\", units=3)`\n",
      "  \n"
     ]
    },
    {
     "name": "stdout",
     "output_type": "stream",
     "text": [
      "Epoch 1/20\n",
      "37708/37708 [==============================] - 5s 140us/step - loss: 2.7329\n",
      "Epoch 2/20\n",
      "37708/37708 [==============================] - 5s 144us/step - loss: 0.0501\n",
      "Epoch 3/20\n",
      "37708/37708 [==============================] - 5s 134us/step - loss: 0.0498\n",
      "Epoch 4/20\n",
      "37708/37708 [==============================] - 5s 137us/step - loss: 0.0500\n",
      "Epoch 5/20\n",
      "37708/37708 [==============================] - 6s 146us/step - loss: 0.0499\n",
      "Epoch 6/20\n",
      "37708/37708 [==============================] - 5s 137us/step - loss: 0.0498\n",
      "Epoch 7/20\n",
      "37708/37708 [==============================] - 5s 137us/step - loss: 0.0498\n",
      "Epoch 8/20\n",
      "37708/37708 [==============================] - 6s 148us/step - loss: 0.0498\n",
      "Epoch 9/20\n",
      "37708/37708 [==============================] - 6s 153us/step - loss: 0.0496\n",
      "Epoch 10/20\n",
      "37708/37708 [==============================] - 5s 133us/step - loss: 0.0497\n",
      "Epoch 11/20\n",
      "37708/37708 [==============================] - 5s 129us/step - loss: 0.0495\n",
      "Epoch 12/20\n",
      "37708/37708 [==============================] - 5s 129us/step - loss: 0.0495\n",
      "Epoch 13/20\n",
      "37708/37708 [==============================] - 5s 130us/step - loss: 0.0495\n",
      "Epoch 14/20\n",
      "37708/37708 [==============================] - 5s 130us/step - loss: 0.0494\n",
      "Epoch 15/20\n",
      "37708/37708 [==============================] - 5s 129us/step - loss: 0.0492\n",
      "Epoch 16/20\n",
      "37708/37708 [==============================] - 5s 129us/step - loss: 0.0493\n",
      "Epoch 17/20\n",
      "37708/37708 [==============================] - 5s 129us/step - loss: 0.0492\n",
      "Epoch 18/20\n",
      "37708/37708 [==============================] - 5s 129us/step - loss: 0.0492\n",
      "Epoch 19/20\n",
      "37708/37708 [==============================] - 5s 130us/step - loss: 0.0491\n",
      "Epoch 20/20\n",
      "37708/37708 [==============================] - 5s 129us/step - loss: 0.0490\n"
     ]
    },
    {
     "data": {
      "text/plain": [
       "<matplotlib.collections.PathCollection at 0x18db87183c8>"
      ]
     },
     "execution_count": 121,
     "metadata": {},
     "output_type": "execute_result"
    },
    {
     "data": {
      "image/png": "[encoded data removed]",
      "text/plain": [
       "<Figure size 432x288 with 1 Axes>"
      ]
     },
     "metadata": {
      "needs_background": "light"
     },
     "output_type": "display_data"
    }
   ],
   "source": [
    "estimator.fit(X_train, y_train)\n",
    "y_pred = estimator.predict(X_test)\n",
    "y_pred[0:5]\n",
    "\n",
    "plt.scatter(y_test,y_pred)\n",
    "#accuracy_score(y_test, prediction)"
   ]
  },
  {
   "cell_type": "markdown",
   "metadata": {},
   "source": [
    "#### Now Predict on Pricescope data"
   ]
  },
  {
   "cell_type": "code",
   "execution_count": 122,
   "metadata": {},
   "outputs": [
    {
     "name": "stdout",
     "output_type": "stream",
     "text": [
      "MAE: 0.1640431956689433\n",
      "MSE: 0.0468547433599048\n",
      "RMSE: 0.216459565184597\n"
     ]
    }
   ],
   "source": [
    "print('MAE:', metrics.mean_absolute_error(y_test, y_pred))\n",
    "print('MSE:', metrics.mean_squared_error(y_test, y_pred))\n",
    "print('RMSE:', np.sqrt(metrics.mean_squared_error(y_test, y_pred)))"
   ]
  },
  {
   "cell_type": "code",
   "execution_count": null,
   "metadata": {},
   "outputs": [],
   "source": []
  }
 ],
 "metadata": {
  "kernelspec": {
   "display_name": "Python 3",
   "language": "python",
   "name": "python3"
  },
  "language_info": {
   "codemirror_mode": {
    "name": "ipython",
    "version": 3
   },
   "file_extension": ".py",
   "mimetype": "text/x-python",
   "name": "python",
   "nbconvert_exporter": "python",
   "pygments_lexer": "ipython3",
   "version": "3.7.2"
  }
 },
 "nbformat": 4,
 "nbformat_minor": 2
}
